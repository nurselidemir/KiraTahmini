{
 "cells": [
  {
   "cell_type": "code",
   "execution_count": 73,
   "id": "68e0b1bd-53c1-47a9-a3b2-5d22cc5b0236",
   "metadata": {},
   "outputs": [],
   "source": [
    "import pandas as pd\n",
    "import numpy as np\n",
    "import os"
   ]
  },
  {
   "cell_type": "code",
   "execution_count": 74,
   "id": "1c6eea43-db40-4488-ab0c-4480423c97b9",
   "metadata": {},
   "outputs": [],
   "source": [
    "def drop_columns(df, cols):\n",
    "    \"\"\"\n",
    "    This function removes the columns from a DataFrame.\n",
    "    \"\"\"\n",
    "    for col in cols:\n",
    "        try:\n",
    "            df.drop([col], axis=1, inplace=True)\n",
    "        except Exception as e:\n",
    "            print(f\"Bir hata oluştu: {e}\")"
   ]
  },
  {
   "cell_type": "code",
   "execution_count": 75,
   "id": "0c274656-4dd3-47be-9d53-37e16827d76a",
   "metadata": {},
   "outputs": [],
   "source": [
    "files = os.listdir('hepsiemlak')\n",
    "df = pd.concat([pd.read_csv(f\"hepsiemlak/{file}\") for file in files], ignore_index = True)\n"
   ]
  },
  {
   "cell_type": "code",
   "execution_count": 76,
   "id": "9af44d0c-ff8a-4492-86ff-3cb12a51f638",
   "metadata": {},
   "outputs": [
    {
     "name": "stdout",
     "output_type": "stream",
     "text": [
      "<class 'pandas.core.frame.DataFrame'>\n",
      "RangeIndex: 8136 entries, 0 to 8135\n",
      "Data columns (total 18 columns):\n",
      " #   Column               Non-Null Count  Dtype  \n",
      "---  ------               --------------  -----  \n",
      " 0   img-link href        8136 non-null   object \n",
      " 1   photo-count          8130 non-null   float64\n",
      " 2   list-view-price      8136 non-null   object \n",
      " 3   list-view-date       8136 non-null   object \n",
      " 4   celly                8136 non-null   object \n",
      " 5   celly 2              8136 non-null   object \n",
      " 6   celly 3              8136 non-null   object \n",
      " 7   celly 4              6858 non-null   object \n",
      " 8   list-view-header     8129 non-null   object \n",
      " 9   list-view-location   8136 non-null   object \n",
      " 10  he-lazy-image src    7649 non-null   object \n",
      " 11  left                 8114 non-null   object \n",
      " 12  img-wrp href         4555 non-null   object \n",
      " 13  he-lazy-image src 2  4067 non-null   object \n",
      " 14  branded__text        134 non-null    object \n",
      " 15  branded__text 2      134 non-null    object \n",
      " 16  img-wrp href 2       133 non-null    object \n",
      " 17  he-lazy-image src 3  116 non-null    object \n",
      "dtypes: float64(1), object(17)\n",
      "memory usage: 1.1+ MB\n"
     ]
    }
   ],
   "source": [
    "df.info()"
   ]
  },
  {
   "cell_type": "code",
   "execution_count": 77,
   "id": "a64bebe1-0544-49ae-87c8-8d4b3dc11f60",
   "metadata": {},
   "outputs": [
    {
     "data": {
      "text/html": [
       "<div>\n",
       "<style scoped>\n",
       "    .dataframe tbody tr th:only-of-type {\n",
       "        vertical-align: middle;\n",
       "    }\n",
       "\n",
       "    .dataframe tbody tr th {\n",
       "        vertical-align: top;\n",
       "    }\n",
       "\n",
       "    .dataframe thead th {\n",
       "        text-align: right;\n",
       "    }\n",
       "</style>\n",
       "<table border=\"1\" class=\"dataframe\">\n",
       "  <thead>\n",
       "    <tr style=\"text-align: right;\">\n",
       "      <th></th>\n",
       "      <th>img-link href</th>\n",
       "      <th>photo-count</th>\n",
       "      <th>list-view-price</th>\n",
       "      <th>list-view-date</th>\n",
       "      <th>celly</th>\n",
       "      <th>celly 2</th>\n",
       "      <th>celly 3</th>\n",
       "      <th>celly 4</th>\n",
       "      <th>list-view-header</th>\n",
       "      <th>list-view-location</th>\n",
       "      <th>he-lazy-image src</th>\n",
       "      <th>left</th>\n",
       "      <th>img-wrp href</th>\n",
       "      <th>he-lazy-image src 2</th>\n",
       "      <th>branded__text</th>\n",
       "      <th>branded__text 2</th>\n",
       "      <th>img-wrp href 2</th>\n",
       "      <th>he-lazy-image src 3</th>\n",
       "    </tr>\n",
       "  </thead>\n",
       "  <tbody>\n",
       "    <tr>\n",
       "      <th>0</th>\n",
       "      <td>https://www.hepsiemlak.com/usak-banaz-cumhuriy...</td>\n",
       "      <td>10.0</td>\n",
       "      <td>7.0</td>\n",
       "      <td>15-04-2024</td>\n",
       "      <td>3 +\\n                        1</td>\n",
       "      <td>150 m²</td>\n",
       "      <td>20\\n                      Yaşında</td>\n",
       "      <td>Kot 2</td>\n",
       "      <td>Banazda Şehir Merkezinde Heryere Ulaşimi Çok Y...</td>\n",
       "      <td>Banaz, Cumhuriyet Mahallesi</td>\n",
       "      <td>NaN</td>\n",
       "      <td>NaN</td>\n",
       "      <td>NaN</td>\n",
       "      <td>NaN</td>\n",
       "      <td>NaN</td>\n",
       "      <td>NaN</td>\n",
       "      <td>NaN</td>\n",
       "      <td>NaN</td>\n",
       "    </tr>\n",
       "    <tr>\n",
       "      <th>1</th>\n",
       "      <td>https://www.hepsiemlak.com/usak-merkez-kemaloz...</td>\n",
       "      <td>17.0</td>\n",
       "      <td>8.5</td>\n",
       "      <td>07-04-2024</td>\n",
       "      <td>2 +\\n                        1</td>\n",
       "      <td>110 m²</td>\n",
       "      <td>8\\n                      Yaşında</td>\n",
       "      <td>1. Kat</td>\n",
       "      <td>Kemalöz Semt Pazarı Yanı Kiralık 2+1 Daire</td>\n",
       "      <td>Merkez, Kemalöz Mahallesi</td>\n",
       "      <td>NaN</td>\n",
       "      <td>NaN</td>\n",
       "      <td>NaN</td>\n",
       "      <td>NaN</td>\n",
       "      <td>NaN</td>\n",
       "      <td>NaN</td>\n",
       "      <td>NaN</td>\n",
       "      <td>NaN</td>\n",
       "    </tr>\n",
       "    <tr>\n",
       "      <th>2</th>\n",
       "      <td>https://www.hepsiemlak.com/usak-merkez-kemaloz...</td>\n",
       "      <td>11.0</td>\n",
       "      <td>7.0</td>\n",
       "      <td>29-03-2024</td>\n",
       "      <td>1 +\\n                        1</td>\n",
       "      <td>60 m²</td>\n",
       "      <td>Sıfır Bina</td>\n",
       "      <td>4. Kat</td>\n",
       "      <td>Bakır Gayrimenkul Den Kiralık Atapark Yakını K...</td>\n",
       "      <td>Merkez, Kemalöz Mahallesi</td>\n",
       "      <td>NaN</td>\n",
       "      <td>NaN</td>\n",
       "      <td>NaN</td>\n",
       "      <td>NaN</td>\n",
       "      <td>NaN</td>\n",
       "      <td>NaN</td>\n",
       "      <td>NaN</td>\n",
       "      <td>NaN</td>\n",
       "    </tr>\n",
       "    <tr>\n",
       "      <th>3</th>\n",
       "      <td>https://www.hepsiemlak.com/usak-merkez-durak-k...</td>\n",
       "      <td>13.0</td>\n",
       "      <td>7.0</td>\n",
       "      <td>30-03-2024</td>\n",
       "      <td>1 +\\n                        1</td>\n",
       "      <td>50 m²</td>\n",
       "      <td>10\\n                      Yaşında</td>\n",
       "      <td>5. Kat</td>\n",
       "      <td>Fatih Caddesi Üzerinde Lüks Kiralık 1+1 Apart</td>\n",
       "      <td>Merkez, Durak Mahallesi</td>\n",
       "      <td>https://hecdn01.hemlak.com/mncropresize/182/13...</td>\n",
       "      <td>NaN</td>\n",
       "      <td>NaN</td>\n",
       "      <td>NaN</td>\n",
       "      <td>NaN</td>\n",
       "      <td>NaN</td>\n",
       "      <td>NaN</td>\n",
       "      <td>NaN</td>\n",
       "    </tr>\n",
       "    <tr>\n",
       "      <th>4</th>\n",
       "      <td>https://www.hepsiemlak.com/usak-merkez-cumhuri...</td>\n",
       "      <td>50.0</td>\n",
       "      <td>16.5</td>\n",
       "      <td>30-03-2024</td>\n",
       "      <td>4 +\\n                        1</td>\n",
       "      <td>300 m²</td>\n",
       "      <td>11\\n                      Yaşında</td>\n",
       "      <td>7. Kat</td>\n",
       "      <td>Uşak,Merkez,Cumhuriyet Mah.Kiralık 4+1 Dubleks...</td>\n",
       "      <td>Merkez, Cumhuriyet Mahallesi</td>\n",
       "      <td>https://hecdn01.hemlak.com/mncropresize/182/13...</td>\n",
       "      <td>NaN</td>\n",
       "      <td>NaN</td>\n",
       "      <td>NaN</td>\n",
       "      <td>NaN</td>\n",
       "      <td>NaN</td>\n",
       "      <td>NaN</td>\n",
       "      <td>NaN</td>\n",
       "    </tr>\n",
       "  </tbody>\n",
       "</table>\n",
       "</div>"
      ],
      "text/plain": [
       "                                       img-link href  photo-count  \\\n",
       "0  https://www.hepsiemlak.com/usak-banaz-cumhuriy...         10.0   \n",
       "1  https://www.hepsiemlak.com/usak-merkez-kemaloz...         17.0   \n",
       "2  https://www.hepsiemlak.com/usak-merkez-kemaloz...         11.0   \n",
       "3  https://www.hepsiemlak.com/usak-merkez-durak-k...         13.0   \n",
       "4  https://www.hepsiemlak.com/usak-merkez-cumhuri...         50.0   \n",
       "\n",
       "  list-view-price list-view-date                           celly celly 2  \\\n",
       "0             7.0     15-04-2024  3 +\\n                        1  150 m²   \n",
       "1             8.5     07-04-2024  2 +\\n                        1  110 m²   \n",
       "2             7.0     29-03-2024  1 +\\n                        1   60 m²   \n",
       "3             7.0     30-03-2024  1 +\\n                        1   50 m²   \n",
       "4            16.5     30-03-2024  4 +\\n                        1  300 m²   \n",
       "\n",
       "                             celly 3 celly 4  \\\n",
       "0  20\\n                      Yaşında   Kot 2   \n",
       "1   8\\n                      Yaşında  1. Kat   \n",
       "2                         Sıfır Bina  4. Kat   \n",
       "3  10\\n                      Yaşında  5. Kat   \n",
       "4  11\\n                      Yaşında  7. Kat   \n",
       "\n",
       "                                    list-view-header  \\\n",
       "0  Banazda Şehir Merkezinde Heryere Ulaşimi Çok Y...   \n",
       "1         Kemalöz Semt Pazarı Yanı Kiralık 2+1 Daire   \n",
       "2  Bakır Gayrimenkul Den Kiralık Atapark Yakını K...   \n",
       "3      Fatih Caddesi Üzerinde Lüks Kiralık 1+1 Apart   \n",
       "4  Uşak,Merkez,Cumhuriyet Mah.Kiralık 4+1 Dubleks...   \n",
       "\n",
       "             list-view-location  \\\n",
       "0   Banaz, Cumhuriyet Mahallesi   \n",
       "1     Merkez, Kemalöz Mahallesi   \n",
       "2     Merkez, Kemalöz Mahallesi   \n",
       "3       Merkez, Durak Mahallesi   \n",
       "4  Merkez, Cumhuriyet Mahallesi   \n",
       "\n",
       "                                   he-lazy-image src left img-wrp href  \\\n",
       "0                                                NaN  NaN          NaN   \n",
       "1                                                NaN  NaN          NaN   \n",
       "2                                                NaN  NaN          NaN   \n",
       "3  https://hecdn01.hemlak.com/mncropresize/182/13...  NaN          NaN   \n",
       "4  https://hecdn01.hemlak.com/mncropresize/182/13...  NaN          NaN   \n",
       "\n",
       "  he-lazy-image src 2 branded__text branded__text 2 img-wrp href 2  \\\n",
       "0                 NaN           NaN             NaN            NaN   \n",
       "1                 NaN           NaN             NaN            NaN   \n",
       "2                 NaN           NaN             NaN            NaN   \n",
       "3                 NaN           NaN             NaN            NaN   \n",
       "4                 NaN           NaN             NaN            NaN   \n",
       "\n",
       "  he-lazy-image src 3  \n",
       "0                 NaN  \n",
       "1                 NaN  \n",
       "2                 NaN  \n",
       "3                 NaN  \n",
       "4                 NaN  "
      ]
     },
     "execution_count": 77,
     "metadata": {},
     "output_type": "execute_result"
    }
   ],
   "source": [
    "df.head()"
   ]
  },
  {
   "cell_type": "code",
   "execution_count": 78,
   "id": "4810a6da-c5ab-4186-9968-5b9c0566dfff",
   "metadata": {},
   "outputs": [
    {
     "data": {
      "text/plain": [
       "Index(['img-link href', 'photo-count', 'list-view-price', 'list-view-date',\n",
       "       'celly', 'celly 2', 'celly 3', 'celly 4', 'list-view-header',\n",
       "       'list-view-location', 'he-lazy-image src', 'left', 'img-wrp href',\n",
       "       'he-lazy-image src 2', 'branded__text', 'branded__text 2',\n",
       "       'img-wrp href 2', 'he-lazy-image src 3'],\n",
       "      dtype='object')"
      ]
     },
     "execution_count": 78,
     "metadata": {},
     "output_type": "execute_result"
    }
   ],
   "source": [
    "df.columns"
   ]
  },
  {
   "cell_type": "code",
   "execution_count": 79,
   "id": "7d12c461-1bf4-4daa-9ddc-141611abe4b2",
   "metadata": {},
   "outputs": [],
   "source": [
    "cols = ['photo-count', 'list-view-date', 'list-view-header', 'list-view-location', 'he-lazy-image src', 'left', 'img-wrp href', 'he-lazy-image src 2', 'branded__text', 'branded__text 2', 'img-wrp href 2', 'he-lazy-image src 3']\n",
    "drop_columns(df, cols)"
   ]
  },
  {
   "cell_type": "code",
   "execution_count": 80,
   "id": "bf37dfaf-2ad4-45d5-b9ca-cf45ba9abaed",
   "metadata": {},
   "outputs": [
    {
     "name": "stdout",
     "output_type": "stream",
     "text": [
      "<class 'pandas.core.frame.DataFrame'>\n",
      "RangeIndex: 8136 entries, 0 to 8135\n",
      "Data columns (total 6 columns):\n",
      " #   Column           Non-Null Count  Dtype \n",
      "---  ------           --------------  ----- \n",
      " 0   img-link href    8136 non-null   object\n",
      " 1   list-view-price  8136 non-null   object\n",
      " 2   celly            8136 non-null   object\n",
      " 3   celly 2          8136 non-null   object\n",
      " 4   celly 3          8136 non-null   object\n",
      " 5   celly 4          6858 non-null   object\n",
      "dtypes: object(6)\n",
      "memory usage: 381.5+ KB\n"
     ]
    }
   ],
   "source": [
    "df.info()"
   ]
  },
  {
   "cell_type": "code",
   "execution_count": 81,
   "id": "5518b1e9-9b81-415a-8760-f3b572a85ad6",
   "metadata": {},
   "outputs": [],
   "source": [
    "df['location'] = df['img-link href'].apply(lambda x: x.split('/')[3])\n",
    "df['city'] =  df['location'].str.split('-').str[0]\n",
    "df['district'] =  df['location'].str.split('-').str[1]\n",
    "df['neighborhood'] =  df['location'].str.split('-').str[2:-1]\n",
    "df['neighborhood'] =  df['neighborhood'].apply(lambda x:'_'.join(x))\n"
   ]
  },
  {
   "cell_type": "code",
   "execution_count": 82,
   "id": "5f9fa100-8bc3-44ba-994c-c1cd0f93a843",
   "metadata": {},
   "outputs": [],
   "source": [
    "drop_columns(df, ['location', 'img-link href'])"
   ]
  },
  {
   "cell_type": "code",
   "execution_count": 83,
   "id": "15f3e4ec-16d9-4d83-870a-eae02f8f9aed",
   "metadata": {},
   "outputs": [
    {
     "name": "stdout",
     "output_type": "stream",
     "text": [
      "<class 'pandas.core.frame.DataFrame'>\n",
      "RangeIndex: 8136 entries, 0 to 8135\n",
      "Data columns (total 8 columns):\n",
      " #   Column           Non-Null Count  Dtype \n",
      "---  ------           --------------  ----- \n",
      " 0   list-view-price  8136 non-null   object\n",
      " 1   celly            8136 non-null   object\n",
      " 2   celly 2          8136 non-null   object\n",
      " 3   celly 3          8136 non-null   object\n",
      " 4   celly 4          6858 non-null   object\n",
      " 5   city             8136 non-null   object\n",
      " 6   district         8136 non-null   object\n",
      " 7   neighborhood     8136 non-null   object\n",
      "dtypes: object(8)\n",
      "memory usage: 508.6+ KB\n"
     ]
    }
   ],
   "source": [
    "df.info()"
   ]
  },
  {
   "cell_type": "code",
   "execution_count": 84,
   "id": "5b9b99ae-6c2d-47dc-b0b0-1a165fae9b0c",
   "metadata": {},
   "outputs": [
    {
     "data": {
      "text/html": [
       "<div>\n",
       "<style scoped>\n",
       "    .dataframe tbody tr th:only-of-type {\n",
       "        vertical-align: middle;\n",
       "    }\n",
       "\n",
       "    .dataframe tbody tr th {\n",
       "        vertical-align: top;\n",
       "    }\n",
       "\n",
       "    .dataframe thead th {\n",
       "        text-align: right;\n",
       "    }\n",
       "</style>\n",
       "<table border=\"1\" class=\"dataframe\">\n",
       "  <thead>\n",
       "    <tr style=\"text-align: right;\">\n",
       "      <th></th>\n",
       "      <th>city</th>\n",
       "      <th>district</th>\n",
       "      <th>neighborhood</th>\n",
       "    </tr>\n",
       "  </thead>\n",
       "  <tbody>\n",
       "    <tr>\n",
       "      <th>7726</th>\n",
       "      <td>mugla</td>\n",
       "      <td>fethiye</td>\n",
       "      <td>foca</td>\n",
       "    </tr>\n",
       "    <tr>\n",
       "      <th>4673</th>\n",
       "      <td>izmir</td>\n",
       "      <td>seferihisar</td>\n",
       "      <td>tepecik</td>\n",
       "    </tr>\n",
       "    <tr>\n",
       "      <th>7591</th>\n",
       "      <td>mugla</td>\n",
       "      <td>bodrum</td>\n",
       "      <td>gumbet</td>\n",
       "    </tr>\n",
       "    <tr>\n",
       "      <th>4081</th>\n",
       "      <td>denizli</td>\n",
       "      <td>merkezefendi</td>\n",
       "      <td>semikler</td>\n",
       "    </tr>\n",
       "    <tr>\n",
       "      <th>1203</th>\n",
       "      <td>izmir</td>\n",
       "      <td>bornova</td>\n",
       "      <td>evka_3</td>\n",
       "    </tr>\n",
       "    <tr>\n",
       "      <th>7182</th>\n",
       "      <td>mugla</td>\n",
       "      <td>bodrum</td>\n",
       "      <td>mumcular</td>\n",
       "    </tr>\n",
       "    <tr>\n",
       "      <th>3716</th>\n",
       "      <td>aydin</td>\n",
       "      <td>efeler</td>\n",
       "      <td>orta</td>\n",
       "    </tr>\n",
       "    <tr>\n",
       "      <th>833</th>\n",
       "      <td>izmir</td>\n",
       "      <td>buca</td>\n",
       "      <td>kurucesme</td>\n",
       "    </tr>\n",
       "    <tr>\n",
       "      <th>3005</th>\n",
       "      <td>aydin</td>\n",
       "      <td>efeler</td>\n",
       "      <td>efeler</td>\n",
       "    </tr>\n",
       "    <tr>\n",
       "      <th>4896</th>\n",
       "      <td>izmir</td>\n",
       "      <td>karsiyaka</td>\n",
       "      <td>semikler</td>\n",
       "    </tr>\n",
       "    <tr>\n",
       "      <th>8021</th>\n",
       "      <td>mugla</td>\n",
       "      <td>mentese</td>\n",
       "      <td>kotekli</td>\n",
       "    </tr>\n",
       "    <tr>\n",
       "      <th>883</th>\n",
       "      <td>izmir</td>\n",
       "      <td>karsiyaka</td>\n",
       "      <td>cumhuriyet</td>\n",
       "    </tr>\n",
       "    <tr>\n",
       "      <th>2890</th>\n",
       "      <td>izmir</td>\n",
       "      <td>buca</td>\n",
       "      <td>guven</td>\n",
       "    </tr>\n",
       "    <tr>\n",
       "      <th>3205</th>\n",
       "      <td>aydin</td>\n",
       "      <td>efeler</td>\n",
       "      <td>guzelhisar</td>\n",
       "    </tr>\n",
       "    <tr>\n",
       "      <th>451</th>\n",
       "      <td>izmir</td>\n",
       "      <td>foca</td>\n",
       "      <td>mustafa_kemal_ataturk</td>\n",
       "    </tr>\n",
       "    <tr>\n",
       "      <th>5920</th>\n",
       "      <td>mugla</td>\n",
       "      <td>bodrum</td>\n",
       "      <td>geris</td>\n",
       "    </tr>\n",
       "    <tr>\n",
       "      <th>5557</th>\n",
       "      <td>mugla</td>\n",
       "      <td>marmaris</td>\n",
       "      <td>armutalan</td>\n",
       "    </tr>\n",
       "    <tr>\n",
       "      <th>7961</th>\n",
       "      <td>mugla</td>\n",
       "      <td>koycegiz</td>\n",
       "      <td>hamitkoy</td>\n",
       "    </tr>\n",
       "    <tr>\n",
       "      <th>6545</th>\n",
       "      <td>mugla</td>\n",
       "      <td>ortaca</td>\n",
       "      <td>cumhuriyet</td>\n",
       "    </tr>\n",
       "    <tr>\n",
       "      <th>8107</th>\n",
       "      <td>mugla</td>\n",
       "      <td>fethiye</td>\n",
       "      <td>ciftlik</td>\n",
       "    </tr>\n",
       "  </tbody>\n",
       "</table>\n",
       "</div>"
      ],
      "text/plain": [
       "         city      district           neighborhood\n",
       "7726    mugla       fethiye                   foca\n",
       "4673    izmir   seferihisar                tepecik\n",
       "7591    mugla        bodrum                 gumbet\n",
       "4081  denizli  merkezefendi               semikler\n",
       "1203    izmir       bornova                 evka_3\n",
       "7182    mugla        bodrum               mumcular\n",
       "3716    aydin        efeler                   orta\n",
       "833     izmir          buca              kurucesme\n",
       "3005    aydin        efeler                 efeler\n",
       "4896    izmir     karsiyaka               semikler\n",
       "8021    mugla       mentese                kotekli\n",
       "883     izmir     karsiyaka             cumhuriyet\n",
       "2890    izmir          buca                  guven\n",
       "3205    aydin        efeler             guzelhisar\n",
       "451     izmir          foca  mustafa_kemal_ataturk\n",
       "5920    mugla        bodrum                  geris\n",
       "5557    mugla      marmaris              armutalan\n",
       "7961    mugla      koycegiz               hamitkoy\n",
       "6545    mugla        ortaca             cumhuriyet\n",
       "8107    mugla       fethiye                ciftlik"
      ]
     },
     "execution_count": 84,
     "metadata": {},
     "output_type": "execute_result"
    }
   ],
   "source": [
    "df[['city', 'district','neighborhood']].sample(20)"
   ]
  },
  {
   "cell_type": "code",
   "execution_count": 85,
   "id": "7b32a753-3ade-4ebe-b3f4-98f29fdc2283",
   "metadata": {},
   "outputs": [
    {
     "data": {
      "text/plain": [
       "Index(['list-view-price', 'celly', 'celly 2', 'celly 3', 'celly 4', 'city',\n",
       "       'district', 'neighborhood'],\n",
       "      dtype='object')"
      ]
     },
     "execution_count": 85,
     "metadata": {},
     "output_type": "execute_result"
    }
   ],
   "source": [
    "df.columns\n"
   ]
  },
  {
   "cell_type": "code",
   "execution_count": 86,
   "id": "6a5b260c-7aa9-4ae0-b58d-01e01ff39df5",
   "metadata": {},
   "outputs": [
    {
     "data": {
      "text/plain": [
       "array(['3 +\\n                        1', '2 +\\n                        1',\n",
       "       '1 +\\n                        1', '4 +\\n                        1',\n",
       "       '2 +\\n                        0', 'Stüdyo',\n",
       "       '3 +\\n                        0',\n",
       "       '1 +\\n                        15',\n",
       "       '2 +\\n                        2', '6 +\\n                        2',\n",
       "       '4 +\\n                        2', '3 +\\n                        2',\n",
       "       '9 +\\n                        1', '6 +\\n                        1',\n",
       "       '8 +\\n                        1', '5 +\\n                        1',\n",
       "       '41 +\\n                        4',\n",
       "       '4 +\\n                        0', '5 +\\n                        2',\n",
       "       '1 +\\n                        25',\n",
       "       '7 +\\n                        1',\n",
       "       '21 +\\n                        1',\n",
       "       '7 +\\n                        2', '6 +\\n                        0',\n",
       "       '9 +\\n                        4', '4 +\\n                        4',\n",
       "       '3 +\\n                        3',\n",
       "       '31 +\\n                        1',\n",
       "       '9 +\\n                        3',\n",
       "       '25 +\\n                        5',\n",
       "       '8 +\\n                        0', '9 +\\n                        9',\n",
       "       '14 +\\n                        6',\n",
       "       '10 +\\n                        1',\n",
       "       '1 +\\n                        2', '3 +\\n                        4',\n",
       "       '4 +\\n                        3', '9 +\\n                        5',\n",
       "       '8 +\\n                        4', '4 +\\n                        5'],\n",
       "      dtype=object)"
      ]
     },
     "execution_count": 86,
     "metadata": {},
     "output_type": "execute_result"
    }
   ],
   "source": [
    "df['celly'].unique()"
   ]
  },
  {
   "cell_type": "code",
   "execution_count": 87,
   "id": "681a1cc8-40a3-4703-9a88-c90b0188f874",
   "metadata": {},
   "outputs": [],
   "source": [
    "df['celly'] = df['celly'].apply(lambda x: x.replace('Stüdyo', ' 1 + 0'))\n",
    "df['celly'] = df['celly'].apply(lambda x: x.replace('\\n', ''))\n",
    "df['room'] = df['celly'].apply(lambda x: x.split('+')[0]).astype(int)\n",
    "df['living_room'] = df['celly'].apply(lambda x: x.split('+')[1]).astype(int)"
   ]
  },
  {
   "cell_type": "code",
   "execution_count": 88,
   "id": "e88ab125-f4be-496d-aeda-b39210ac0f7f",
   "metadata": {},
   "outputs": [
    {
     "data": {
      "text/plain": [
       "array([ 3,  2,  1,  4,  6,  9,  8,  5, 41,  7, 21, 31, 25, 14, 10])"
      ]
     },
     "execution_count": 88,
     "metadata": {},
     "output_type": "execute_result"
    }
   ],
   "source": [
    "df['room'].unique()"
   ]
  },
  {
   "cell_type": "code",
   "execution_count": 89,
   "id": "55b57248-9b7f-4a51-a409-bc5012b263c6",
   "metadata": {},
   "outputs": [
    {
     "data": {
      "text/plain": [
       "array([ 1,  0, 15,  2,  4, 25,  3,  5,  9,  6])"
      ]
     },
     "execution_count": 89,
     "metadata": {},
     "output_type": "execute_result"
    }
   ],
   "source": [
    "df['living_room'].unique()"
   ]
  },
  {
   "cell_type": "code",
   "execution_count": 90,
   "id": "723d3488-b929-4840-9f4e-1d1f5151f0b8",
   "metadata": {},
   "outputs": [],
   "source": [
    "drop_columns(df, ['celly'])"
   ]
  },
  {
   "cell_type": "code",
   "execution_count": 91,
   "id": "508f685e-633f-4f81-a924-bb81094b7fb2",
   "metadata": {},
   "outputs": [
    {
     "name": "stdout",
     "output_type": "stream",
     "text": [
      "<class 'pandas.core.frame.DataFrame'>\n",
      "RangeIndex: 8136 entries, 0 to 8135\n",
      "Data columns (total 9 columns):\n",
      " #   Column           Non-Null Count  Dtype \n",
      "---  ------           --------------  ----- \n",
      " 0   list-view-price  8136 non-null   object\n",
      " 1   celly 2          8136 non-null   object\n",
      " 2   celly 3          8136 non-null   object\n",
      " 3   celly 4          6858 non-null   object\n",
      " 4   city             8136 non-null   object\n",
      " 5   district         8136 non-null   object\n",
      " 6   neighborhood     8136 non-null   object\n",
      " 7   room             8136 non-null   int64 \n",
      " 8   living_room      8136 non-null   int64 \n",
      "dtypes: int64(2), object(7)\n",
      "memory usage: 572.2+ KB\n"
     ]
    }
   ],
   "source": [
    "df.info()"
   ]
  },
  {
   "cell_type": "code",
   "execution_count": 92,
   "id": "1e6ed4b6-fb0b-41da-8f46-9ec18efa2f6e",
   "metadata": {},
   "outputs": [
    {
     "data": {
      "text/plain": [
       "array(['150 m²', '110 m²', '60 m²', '50 m²', '300 m²', '117 m²', '70 m²',\n",
       "       '140 m²', '130 m²', '75 m²', '160 m²', '165 m²', '135 m²', '85 m²',\n",
       "       '120 m²', '48 m²', '125 m²', '80 m²', '95 m²', '100 m²', '105 m²',\n",
       "       '180 m²', '3.200 m²', '90 m²', '76 m²', '55 m²', '65 m²', '145 m²',\n",
       "       '45 m²', '115 m²', '35 m²', '53 m²', '155 m²', '148 m²', '78 m²',\n",
       "       '151 m²', '30 m²', '270 m²', '440 m²', '132 m²', '121 m²',\n",
       "       '141 m²', '170 m²', '122 m²', '200 m²', '87 m²', '146 m²',\n",
       "       '220 m²', '108 m²', '370 m²', '86 m²', '380 m²', '47 m²', '43 m²',\n",
       "       '63 m²', '245 m²', '204 m²', '183 m²', '190 m²', '600 m²',\n",
       "       '119 m²', '72 m²', '350 m²', '142 m²', '520 m²', '166 m²',\n",
       "       '870 m²', '330 m²', '96 m²', '41 m²', '143 m²', '280 m²', '64 m²',\n",
       "       '57 m²', '286 m²', '340 m²', '81 m²', '185 m²', '40 m²', '168 m²',\n",
       "       '116 m²', '93 m²', '209 m²', '59 m²', '77 m²', '400 m²', '98 m²',\n",
       "       '106 m²', '174 m²', '205 m²', '74 m²', '500 m²', '68 m²',\n",
       "       '1.301 m²', '275 m²', '52 m²', '137 m²', '167 m²', '217 m²',\n",
       "       '25 m²', '250 m²', '290 m²', '112 m²', '196 m²', '184 m²',\n",
       "       '450 m²', '159 m²', '195 m²', '640 m²', '230 m²', '260 m²',\n",
       "       '285 m²', '235 m²', '337 m²', '211 m²', '240 m²', '134 m²',\n",
       "       '832 m²', '1.000 m²', '38 m²', '147 m²', '152 m²', '88 m²',\n",
       "       '213 m²', '126 m²', '255 m²', '199 m²', '127 m²', '11 m²',\n",
       "       '154 m²', '22 m²', '66 m²', '399 m²', '187 m²', '67 m²', '210 m²',\n",
       "       '89 m²', '355 m²', '97 m²', '84 m²', '42 m²', '51 m²', '73 m²',\n",
       "       '325 m²', '71 m²', '3.000 m²', '175 m²', '320 m²', '156 m²',\n",
       "       '162 m²', '18 m²', '56 m²', '136 m²', '131 m²', '580 m²', '375 m²',\n",
       "       '161 m²', '163 m²', '149 m²', '206 m²', '138 m²', '475 m²',\n",
       "       '359 m²', '124 m²', '91 m²', '194 m²', '4.500 m²', '20 m²',\n",
       "       '103 m²', '58 m²', '302 m²', '505 m²', '800 m²', '368 m²',\n",
       "       '178 m²', '750 m²', '92 m²', '181 m²', '460 m²', '390 m²',\n",
       "       '360 m²', '550 m²', '4.000 m²', '295 m²', '128 m²', '341 m²',\n",
       "       '745 m²', '118 m²', '144 m²', '15 m²', '82 m²', '49 m²', '176 m²',\n",
       "       '182 m²', '981 m²', '256 m²', '62 m²', '32 m²', '3.510 m²',\n",
       "       '215 m²', '1.057 m²', '171 m²', '173 m²', '79 m²', '169 m²',\n",
       "       '28 m²', '104 m²', '535 m²', '5.500 m²', '114 m²', '208 m²',\n",
       "       '94 m²', '46 m²', '900 m²', '225 m²', '402 m²', '111 m²', '193 m²',\n",
       "       '1.100 m²', '212 m²', '102 m²', '177 m²', '249 m²', '109 m²',\n",
       "       '420 m²', '995 m²', '545 m²', '192 m²', '1.250 m²', '113 m²',\n",
       "       '490 m²', '760 m²', '157 m²', '54 m²', '405 m²', '36 m²', '510 m²',\n",
       "       '99 m²', '172 m²', '9.000 m²', '21 m²', '101 m²', '164 m²',\n",
       "       '158 m²', '201 m²', '310 m²', '1.150 m²', '2.000 m²', '228 m²',\n",
       "       '700 m²', '349 m²', '203 m²', '31 m²', '33 m²', '950 m²', '650 m²',\n",
       "       '252 m²', '493 m²', '265 m²', '1.400 m²', '5 m²', '317 m²',\n",
       "       '850 m²'], dtype=object)"
      ]
     },
     "execution_count": 92,
     "metadata": {},
     "output_type": "execute_result"
    }
   ],
   "source": [
    "df['celly 2'].unique()"
   ]
  },
  {
   "cell_type": "code",
   "execution_count": 93,
   "id": "a40742a5-9a93-4bc0-800c-d0e60fbf74ea",
   "metadata": {},
   "outputs": [],
   "source": [
    "df['celly 2'] = df['celly 2'].apply(lambda x:x.replace('.',''))\n",
    "df['area'] = df['celly 2'].apply(lambda x:x.split(' ')[0]).astype(int)\n"
   ]
  },
  {
   "cell_type": "code",
   "execution_count": 94,
   "id": "81857ae2-d32e-4db0-9068-6a4e1f1b16e4",
   "metadata": {},
   "outputs": [
    {
     "data": {
      "text/plain": [
       "array([ 150,  110,   60,   50,  300,  117,   70,  140,  130,   75,  160,\n",
       "        165,  135,   85,  120,   48,  125,   80,   95,  100,  105,  180,\n",
       "       3200,   90,   76,   55,   65,  145,   45,  115,   35,   53,  155,\n",
       "        148,   78,  151,   30,  270,  440,  132,  121,  141,  170,  122,\n",
       "        200,   87,  146,  220,  108,  370,   86,  380,   47,   43,   63,\n",
       "        245,  204,  183,  190,  600,  119,   72,  350,  142,  520,  166,\n",
       "        870,  330,   96,   41,  143,  280,   64,   57,  286,  340,   81,\n",
       "        185,   40,  168,  116,   93,  209,   59,   77,  400,   98,  106,\n",
       "        174,  205,   74,  500,   68, 1301,  275,   52,  137,  167,  217,\n",
       "         25,  250,  290,  112,  196,  184,  450,  159,  195,  640,  230,\n",
       "        260,  285,  235,  337,  211,  240,  134,  832, 1000,   38,  147,\n",
       "        152,   88,  213,  126,  255,  199,  127,   11,  154,   22,   66,\n",
       "        399,  187,   67,  210,   89,  355,   97,   84,   42,   51,   73,\n",
       "        325,   71, 3000,  175,  320,  156,  162,   18,   56,  136,  131,\n",
       "        580,  375,  161,  163,  149,  206,  138,  475,  359,  124,   91,\n",
       "        194, 4500,   20,  103,   58,  302,  505,  800,  368,  178,  750,\n",
       "         92,  181,  460,  390,  360,  550, 4000,  295,  128,  341,  745,\n",
       "        118,  144,   15,   82,   49,  176,  182,  981,  256,   62,   32,\n",
       "       3510,  215, 1057,  171,  173,   79,  169,   28,  104,  535, 5500,\n",
       "        114,  208,   94,   46,  900,  225,  402,  111,  193, 1100,  212,\n",
       "        102,  177,  249,  109,  420,  995,  545,  192, 1250,  113,  490,\n",
       "        760,  157,   54,  405,   36,  510,   99,  172, 9000,   21,  101,\n",
       "        164,  158,  201,  310, 1150, 2000,  228,  700,  349,  203,   31,\n",
       "         33,  950,  650,  252,  493,  265, 1400,    5,  317,  850])"
      ]
     },
     "execution_count": 94,
     "metadata": {},
     "output_type": "execute_result"
    }
   ],
   "source": [
    "df['area'].unique()"
   ]
  },
  {
   "cell_type": "code",
   "execution_count": 95,
   "id": "5ec88f71-59d6-4731-9783-6e02dc7fd8ff",
   "metadata": {},
   "outputs": [],
   "source": [
    "drop_columns(df,['celly 2'])"
   ]
  },
  {
   "cell_type": "code",
   "execution_count": 96,
   "id": "8398037d-f2bb-419d-8031-e45b3a9bc1a4",
   "metadata": {},
   "outputs": [
    {
     "name": "stdout",
     "output_type": "stream",
     "text": [
      "<class 'pandas.core.frame.DataFrame'>\n",
      "RangeIndex: 8136 entries, 0 to 8135\n",
      "Data columns (total 9 columns):\n",
      " #   Column           Non-Null Count  Dtype \n",
      "---  ------           --------------  ----- \n",
      " 0   list-view-price  8136 non-null   object\n",
      " 1   celly 3          8136 non-null   object\n",
      " 2   celly 4          6858 non-null   object\n",
      " 3   city             8136 non-null   object\n",
      " 4   district         8136 non-null   object\n",
      " 5   neighborhood     8136 non-null   object\n",
      " 6   room             8136 non-null   int64 \n",
      " 7   living_room      8136 non-null   int64 \n",
      " 8   area             8136 non-null   int64 \n",
      "dtypes: int64(3), object(6)\n",
      "memory usage: 572.2+ KB\n"
     ]
    }
   ],
   "source": [
    "df.info()"
   ]
  },
  {
   "cell_type": "code",
   "execution_count": 97,
   "id": "deed9924-35ab-486c-9976-ab524cfce393",
   "metadata": {},
   "outputs": [
    {
     "data": {
      "text/plain": [
       "array(['20\\n                      Yaşında',\n",
       "       '8\\n                      Yaşında', 'Sıfır Bina',\n",
       "       '10\\n                      Yaşında',\n",
       "       '11\\n                      Yaşında',\n",
       "       '5\\n                      Yaşında',\n",
       "       '4\\n                      Yaşında',\n",
       "       '3\\n                      Yaşında',\n",
       "       '15\\n                      Yaşında',\n",
       "       '1\\n                      Yaşında',\n",
       "       '24\\n                      Yaşında',\n",
       "       '2\\n                      Yaşında',\n",
       "       '17\\n                      Yaşında',\n",
       "       '30\\n                      Yaşında',\n",
       "       '28\\n                      Yaşında',\n",
       "       '25\\n                      Yaşında',\n",
       "       '16\\n                      Yaşında',\n",
       "       '21\\n                      Yaşında',\n",
       "       '18\\n                      Yaşında',\n",
       "       '31\\n                      Yaşında',\n",
       "       '22\\n                      Yaşında',\n",
       "       '7\\n                      Yaşında',\n",
       "       '13\\n                      Yaşında',\n",
       "       '9\\n                      Yaşında',\n",
       "       '6\\n                      Yaşında',\n",
       "       '35\\n                      Yaşında',\n",
       "       '39\\n                      Yaşında',\n",
       "       '14\\n                      Yaşında',\n",
       "       '19\\n                      Yaşında',\n",
       "       '33\\n                      Yaşında',\n",
       "       '26\\n                      Yaşında',\n",
       "       '12\\n                      Yaşında',\n",
       "       '29\\n                      Yaşında',\n",
       "       '49\\n                      Yaşında',\n",
       "       '27\\n                      Yaşında',\n",
       "       '32\\n                      Yaşında',\n",
       "       '52\\n                      Yaşında',\n",
       "       '40\\n                      Yaşında',\n",
       "       '38\\n                      Yaşında',\n",
       "       '44\\n                      Yaşında',\n",
       "       '50\\n                      Yaşında',\n",
       "       '34\\n                      Yaşında',\n",
       "       '23\\n                      Yaşında',\n",
       "       '45\\n                      Yaşında',\n",
       "       '42\\n                      Yaşında',\n",
       "       '55\\n                      Yaşında',\n",
       "       '36\\n                      Yaşında',\n",
       "       '43\\n                      Yaşında',\n",
       "       '37\\n                      Yaşında',\n",
       "       '47\\n                      Yaşında',\n",
       "       '300\\n                      Yaşında',\n",
       "       '48\\n                      Yaşında',\n",
       "       '199\\n                      Yaşında',\n",
       "       '100\\n                      Yaşında',\n",
       "       '60\\n                      Yaşında',\n",
       "       '61\\n                      Yaşında',\n",
       "       '600\\n                      Yaşında'], dtype=object)"
      ]
     },
     "execution_count": 97,
     "metadata": {},
     "output_type": "execute_result"
    }
   ],
   "source": [
    "df['celly 3'].unique()"
   ]
  },
  {
   "cell_type": "code",
   "execution_count": 98,
   "id": "20458453-b885-41c7-aa5d-10be28c86c7b",
   "metadata": {},
   "outputs": [],
   "source": [
    "df['celly 3'] = df['celly 3'].apply(lambda x:x.replace('Sıfır Bina', '0 yaşında'))\n",
    "df['celly 3'] = df['celly 3'].apply(lambda x:x.replace('\\n', ' '))\n",
    "df['age'] = df['celly 3'].apply(lambda x:x.split(' ')[0]).astype(int)"
   ]
  },
  {
   "cell_type": "code",
   "execution_count": 99,
   "id": "ca8d4183-1a7b-417e-b2c6-f6a065f44433",
   "metadata": {},
   "outputs": [
    {
     "data": {
      "text/plain": [
       "array([ 20,   8,   0,  10,  11,   5,   4,   3,  15,   1,  24,   2,  17,\n",
       "        30,  28,  25,  16,  21,  18,  31,  22,   7,  13,   9,   6,  35,\n",
       "        39,  14,  19,  33,  26,  12,  29,  49,  27,  32,  52,  40,  38,\n",
       "        44,  50,  34,  23,  45,  42,  55,  36,  43,  37,  47, 300,  48,\n",
       "       199, 100,  60,  61, 600])"
      ]
     },
     "execution_count": 99,
     "metadata": {},
     "output_type": "execute_result"
    }
   ],
   "source": [
    "df['age'].unique()"
   ]
  },
  {
   "cell_type": "code",
   "execution_count": 100,
   "id": "78bdddc4-2971-4788-a5ce-df3945588cbb",
   "metadata": {},
   "outputs": [],
   "source": [
    "drop_columns(df, ['celly 3'])"
   ]
  },
  {
   "cell_type": "code",
   "execution_count": 101,
   "id": "091caca9-e1d5-4a06-99b1-22b20b74a1b7",
   "metadata": {},
   "outputs": [
    {
     "name": "stdout",
     "output_type": "stream",
     "text": [
      "<class 'pandas.core.frame.DataFrame'>\n",
      "RangeIndex: 8136 entries, 0 to 8135\n",
      "Data columns (total 9 columns):\n",
      " #   Column           Non-Null Count  Dtype \n",
      "---  ------           --------------  ----- \n",
      " 0   list-view-price  8136 non-null   object\n",
      " 1   celly 4          6858 non-null   object\n",
      " 2   city             8136 non-null   object\n",
      " 3   district         8136 non-null   object\n",
      " 4   neighborhood     8136 non-null   object\n",
      " 5   room             8136 non-null   int64 \n",
      " 6   living_room      8136 non-null   int64 \n",
      " 7   area             8136 non-null   int64 \n",
      " 8   age              8136 non-null   int64 \n",
      "dtypes: int64(4), object(5)\n",
      "memory usage: 572.2+ KB\n"
     ]
    }
   ],
   "source": [
    "df.info()"
   ]
  },
  {
   "cell_type": "code",
   "execution_count": 102,
   "id": "8c90403a-b2a0-4653-9928-dbf36720a135",
   "metadata": {},
   "outputs": [
    {
     "data": {
      "text/plain": [
       "array(['Kot 2', '1. Kat', '4. Kat', '5. Kat', '7. Kat', '3. Kat',\n",
       "       '2. Kat', 'Kot 1', 'Yüksek Giriş', '9. Kat', 'Ara Kat',\n",
       "       'En Üst Kat', 'Bahçe Katı', 'Yarı Bodrum', nan, 'Bodrum', 'Kot 3',\n",
       "       'Çatı Katı', 'Zemin', '8. Kat', 'Giriş Katı', '6. Kat', '16. Kat',\n",
       "       '17. Kat', 'Villa Katı', '10. Kat', '13. Kat', '12. Kat',\n",
       "       '11. Kat', '14. Kat', '21 ve üzeri', 'Bodrum ve Zemin', 'Asma Kat',\n",
       "       '18. Kat', 'Tripleks', 'Teras Katı', '15. Kat', '20. Kat',\n",
       "       '19. Kat'], dtype=object)"
      ]
     },
     "execution_count": 102,
     "metadata": {},
     "output_type": "execute_result"
    }
   ],
   "source": [
    "df['celly 4'].unique()"
   ]
  },
  {
   "cell_type": "code",
   "execution_count": 104,
   "id": "f241e49c-f100-4143-b8d9-36ba4bb13809",
   "metadata": {},
   "outputs": [],
   "source": [
    "replace_dict = {\n",
    "    'Kot 2': '-2. Kat',\n",
    "    'Kot 1': '-1. Kat',\n",
    "    'Yüksek Giriş': '1. Kat',\n",
    "    'Ara Kat': '3. Kat',\n",
    "    'En Üst Kat': '5. Kat',\n",
    "    'Bahçe Katı': '0. Kat',\n",
    "    'Yarı Bodrum': '0. Kat',\n",
    "    'Bodrum': '0. Kat',\n",
    "    'Kot 3': '-3. Kat',\n",
    "    'Çatı Katı': '5. Kat',\n",
    "    'Zemin': '0. Kat',\n",
    "    'Giriş Katı': '0. Kat',\n",
    "    'Villa Katı': '0. Kat',\n",
    "    '21 ve üzeri': '21. Kat',\n",
    "    'Bodrum ve Zemin': '0. Kat',\n",
    "    'Asma Kat': '1. Kat',\n",
    "    'Tripleks': '0. Kat',\n",
    "    'Teras Katı': '5. Kat',\n",
    "    'nan': '2. Kat',\n",
    "}\n",
    "df['celly 4'] = df['celly 4'].replace(replace_dict.keys(), replace_dict.values()).astype(str)\n",
    "df['celly 4'].dropna(inplace=True)\n",
    "df['floor'] = df['celly 4'].apply(lambda x: x.split('.')[0]).astype(int)"
   ]
  },
  {
   "cell_type": "code",
   "execution_count": 105,
   "id": "6701f59a-3ba7-4a5c-8c74-2f2c39c00a59",
   "metadata": {},
   "outputs": [
    {
     "data": {
      "text/plain": [
       "array([-2,  1,  4,  5,  7,  3,  2, -1,  9,  0, -3,  8,  6, 16, 17, 10, 13,\n",
       "       12, 11, 14, 21, 18, 15, 20, 19])"
      ]
     },
     "execution_count": 105,
     "metadata": {},
     "output_type": "execute_result"
    }
   ],
   "source": [
    "df['floor'].unique()"
   ]
  },
  {
   "cell_type": "code",
   "execution_count": 106,
   "id": "53658626-f3c1-4165-914e-e74006eba0dd",
   "metadata": {},
   "outputs": [],
   "source": [
    "drop_columns(df, ['celly 4'])"
   ]
  },
  {
   "cell_type": "code",
   "execution_count": 107,
   "id": "e99bdc59-e1e3-42e2-9255-7e5e4a40bc61",
   "metadata": {},
   "outputs": [
    {
     "name": "stdout",
     "output_type": "stream",
     "text": [
      "<class 'pandas.core.frame.DataFrame'>\n",
      "RangeIndex: 8136 entries, 0 to 8135\n",
      "Data columns (total 9 columns):\n",
      " #   Column           Non-Null Count  Dtype \n",
      "---  ------           --------------  ----- \n",
      " 0   list-view-price  8136 non-null   object\n",
      " 1   city             8136 non-null   object\n",
      " 2   district         8136 non-null   object\n",
      " 3   neighborhood     8136 non-null   object\n",
      " 4   room             8136 non-null   int64 \n",
      " 5   living_room      8136 non-null   int64 \n",
      " 6   area             8136 non-null   int64 \n",
      " 7   age              8136 non-null   int64 \n",
      " 8   floor            8136 non-null   int64 \n",
      "dtypes: int64(5), object(4)\n",
      "memory usage: 572.2+ KB\n"
     ]
    }
   ],
   "source": [
    "df.info()"
   ]
  },
  {
   "cell_type": "code",
   "execution_count": 108,
   "id": "ab4af69b-4faa-475d-b963-32ff93b17c29",
   "metadata": {},
   "outputs": [
    {
     "data": {
      "text/plain": [
       "array([7.0, 8.5, 16.5, 20.0, 22.0, 7.25, 15.0, 10.0, 7.5, 6.75, 21.0,\n",
       "       14.0, 8.0, '7.500', '8.500', '15.000', '5.000', '7.000', '8.000',\n",
       "       '11.000', '9.000', '3.000', '10.000', '6.500', '2.500', '6.000',\n",
       "       '5.500', '8.750', '4.250', '4.500', '12.500', '5.250', '12.000',\n",
       "       '7.250', '6.750', '7.750', '3.500', '6.600', '5.100', '13.000',\n",
       "       '5.600', '1.100.000', '9.500', '4.000', '13.250', '19.000',\n",
       "       '29.000', '30.000', '25.000', '18.500', '83.000', '14.000',\n",
       "       '380.000', '20.000', '210.000', '280.000', '325.000', '16.000',\n",
       "       '9.250', '37.500', '600.000', '350', '15.500', '500.000',\n",
       "       '200.000', '20.500', '13.500', '11.500', '17.000', '800.000',\n",
       "       '10.500', '22.000', '18.000', '50.000', '65.000', '550.000',\n",
       "       '45.000', '33.000', '100.000', '21.500', '28.500', '26.000',\n",
       "       '22.500', '220.000', '400.000', '39.000', '27.500', '16.500',\n",
       "       '29.500', '15.750', '40.000', '21.750', '35.000', '25.500',\n",
       "       '21.000', '235.000', '34.000', '96.000', '55.000', '425.000',\n",
       "       '24.000', '23.000', '19.750', '70.000', '52.500', '32.000',\n",
       "       '450.000', '275.000', '19.360', '620.000', '17.500', '19.500',\n",
       "       '370.000', '350.000', '9.800', '680.000', '15.590.000', '34.500',\n",
       "       '250.000', '60.000', '300.000', '170.000', '14.500', '26.500',\n",
       "       '480.000', '18.450', '375.000', '1.650.000', '28.000', '15.250',\n",
       "       '23.500', '650.000', '365.000', '75.000', '1.000.000', '36.000',\n",
       "       '120.000', '10.400', '10.999', '160.000', '150.000', '7.950',\n",
       "       '180.000', '140.000', '130.000', '785.000', '2.250.000', '260.000',\n",
       "       '1.250.000', '43.000', '13.900.000', '1.600.000', '9.750',\n",
       "       '165.000', '225.000', '125.000', '85.000', '80.000', '110.000',\n",
       "       '290.000', '300', '475.000', '9.999', '850.000', '9.200',\n",
       "       '240.000', '330.000', '27.000', '750.000', '2.265.000', '46.000',\n",
       "       '590.000', '57.500', '700.000', '23', '29.750', '48.000', '14.250',\n",
       "       '1.050.000', '36.500', '1.750.000', '415.000', '430.000', '90.000',\n",
       "       '11.111', '720.000', '42.500', '625.000', '200', '1.350.000',\n",
       "       '1.200.000', '190.000', '24.500', '16.750', '525.000', '13.750',\n",
       "       '64.000', '118.000', '38.000', '1.800.000', '31.500', '49.900',\n",
       "       '2.000', '4.875.000', '18.750', '104.000', '17.250', '48.500',\n",
       "       '22.500.000', '115.000', '57.000', '53.000', '66.000', '12.950',\n",
       "       '62.000', '265.000', '18.250', '185.000', '41.000', '26.900',\n",
       "       '17.750', '62.500', '29.999', '14.750', '37.000', '16.200',\n",
       "       '8.250', '39.500', '98.500', '28.900', '58.000', '15.900',\n",
       "       '10.757', '10.750', '1.400.000', '175.000', '460.000', '20.999',\n",
       "       '31.000', '56.000', '14.700', '269.900', '14.100', '530.000',\n",
       "       '16.250', '49.000', '17.950', '10.900', '24.750', '2.550.000',\n",
       "       '1.000', '95.000', '3.250.000', '790.000', '15.950', '14.999',\n",
       "       '195.000', '8.000.000', '1.025.000', '67.000', '900.000', '1.500',\n",
       "       '9.850', '26.000.000', '3.400', '14.300', '8.700', '9.950.000',\n",
       "       '120.000.000', '111', '11', '890.000', '42.000', '4.650.000',\n",
       "       '11.750', '1.700', '8.550', '8.900', '7.200', '270.000',\n",
       "       '3.500.000', '11.900', '1.190.000', '1.840.000', '6.250', '8.100',\n",
       "       '12.750', '750', '7.999', '3.999', '7.900', '6.900', '5.750',\n",
       "       '7.400', '6.999', '1.850.000', '7.100', '6.800', '5.700', '9.900',\n",
       "       '7.800', '4.999', '4.750', '5.999', '8.400', '8.300', '14.990',\n",
       "       '950.000', '10.800', '13.950', '780.000', '320.000', '1.250',\n",
       "       '63.000', '1.200', '675.000', '8.950', '760.000', '420.000', '13',\n",
       "       '67.500', '12', '26.750', '4.950', '440.000', '15', '390.000',\n",
       "       '1.725.000', '360.000', '1.150.000', '135.000', '2.750', '4.100',\n",
       "       '44.000', '16.350', '17.000.000', '921.180', '145.000', '41.600',\n",
       "       '495.000', '65.500', '2.250', '595.000', '19.800', '32.750',\n",
       "       '54.000', '50.000.000', '48.000.000', '465.000', '860.000', '1',\n",
       "       '630.000', '995.000', '241.800', '340.000', '4.450.000',\n",
       "       '6.500.000', '2.175.000', '2.000.000', '2.200.000', '6.150.000',\n",
       "       '410.000', '16.400', '295.000', '3.250', '1.070.000', '87.000',\n",
       "       '105.000', '1.750', '875.000', '560.000', 4.5, 19.0, 6.5, 18.5,\n",
       "       9.5, 12.0, 6.0, 9.0, 7.75, '16.500.000', '11.250', '12.850',\n",
       "       '740.000', '2.500.000', '355.000', '255.000', '72.000', '485.000',\n",
       "       '285.000', '59.500', '245.000', '4.050.000', '32.500', '510.000',\n",
       "       '1.225.000', '3.900.000', '30.000.000', '39.900', '243.000',\n",
       "       '2.300.000', '25.000.000', '49.950', '73.000', '840.000',\n",
       "       '2.275.000', '310.000', '7.300', '3.750', '3.000.000', '1.700.000'],\n",
       "      dtype=object)"
      ]
     },
     "execution_count": 108,
     "metadata": {},
     "output_type": "execute_result"
    }
   ],
   "source": [
    "df['list-view-price'].unique()"
   ]
  },
  {
   "cell_type": "code",
   "execution_count": 112,
   "id": "0bd1cf3d-19d7-4f2b-83ad-f395445ea6b5",
   "metadata": {},
   "outputs": [],
   "source": [
    "df['list-view-price'] = df['list-view-price'].astype(str).apply(lambda x:x.replace('.',''))\n",
    "df['price'] = df['list-view-price'].astype(int)"
   ]
  },
  {
   "cell_type": "code",
   "execution_count": 113,
   "id": "9b2dea37-974a-4463-8168-a71bc7fc8e4e",
   "metadata": {},
   "outputs": [
    {
     "data": {
      "text/plain": [
       "array([       70,        85,       165,       200,       220,       725,\n",
       "             150,       100,        75,       675,       210,       140,\n",
       "              80,      7500,      8500,     15000,      5000,      7000,\n",
       "            8000,     11000,      9000,      3000,     10000,      6500,\n",
       "            2500,      6000,      5500,      8750,      4250,      4500,\n",
       "           12500,      5250,     12000,      7250,      6750,      7750,\n",
       "            3500,      6600,      5100,     13000,      5600,   1100000,\n",
       "            9500,      4000,     13250,     19000,     29000,     30000,\n",
       "           25000,     18500,     83000,     14000,    380000,     20000,\n",
       "          210000,    280000,    325000,     16000,      9250,     37500,\n",
       "          600000,       350,     15500,    500000,    200000,     20500,\n",
       "           13500,     11500,     17000,    800000,     10500,     22000,\n",
       "           18000,     50000,     65000,    550000,     45000,     33000,\n",
       "          100000,     21500,     28500,     26000,     22500,    220000,\n",
       "          400000,     39000,     27500,     16500,     29500,     15750,\n",
       "           40000,     21750,     35000,     25500,     21000,    235000,\n",
       "           34000,     96000,     55000,    425000,     24000,     23000,\n",
       "           19750,     70000,     52500,     32000,    450000,    275000,\n",
       "           19360,    620000,     17500,     19500,    370000,    350000,\n",
       "            9800,    680000,  15590000,     34500,    250000,     60000,\n",
       "          300000,    170000,     14500,     26500,    480000,     18450,\n",
       "          375000,   1650000,     28000,     15250,     23500,    650000,\n",
       "          365000,     75000,   1000000,     36000,    120000,     10400,\n",
       "           10999,    160000,    150000,      7950,    180000,    140000,\n",
       "          130000,    785000,   2250000,    260000,   1250000,     43000,\n",
       "        13900000,   1600000,      9750,    165000,    225000,    125000,\n",
       "           85000,     80000,    110000,    290000,       300,    475000,\n",
       "            9999,    850000,      9200,    240000,    330000,     27000,\n",
       "          750000,   2265000,     46000,    590000,     57500,    700000,\n",
       "              23,     29750,     48000,     14250,   1050000,     36500,\n",
       "         1750000,    415000,    430000,     90000,     11111,    720000,\n",
       "           42500,    625000,   1350000,   1200000,    190000,     24500,\n",
       "           16750,    525000,     13750,     64000,    118000,     38000,\n",
       "         1800000,     31500,     49900,      2000,   4875000,     18750,\n",
       "          104000,     17250,     48500,  22500000,    115000,     57000,\n",
       "           53000,     66000,     12950,     62000,    265000,     18250,\n",
       "          185000,     41000,     26900,     17750,     62500,     29999,\n",
       "           14750,     37000,     16200,      8250,     39500,     98500,\n",
       "           28900,     58000,     15900,     10757,     10750,   1400000,\n",
       "          175000,    460000,     20999,     31000,     56000,     14700,\n",
       "          269900,     14100,    530000,     16250,     49000,     17950,\n",
       "           10900,     24750,   2550000,      1000,     95000,   3250000,\n",
       "          790000,     15950,     14999,    195000,   8000000,   1025000,\n",
       "           67000,    900000,      1500,      9850,  26000000,      3400,\n",
       "           14300,      8700,   9950000, 120000000,       111,        11,\n",
       "          890000,     42000,   4650000,     11750,      1700,      8550,\n",
       "            8900,      7200,    270000,   3500000,     11900,   1190000,\n",
       "         1840000,      6250,      8100,     12750,       750,      7999,\n",
       "            3999,      7900,      6900,      5750,      7400,      6999,\n",
       "         1850000,      7100,      6800,      5700,      9900,      7800,\n",
       "            4999,      4750,      5999,      8400,      8300,     14990,\n",
       "          950000,     10800,     13950,    780000,    320000,      1250,\n",
       "           63000,      1200,    675000,      8950,    760000,    420000,\n",
       "              13,     67500,        12,     26750,      4950,    440000,\n",
       "              15,    390000,   1725000,    360000,   1150000,    135000,\n",
       "            2750,      4100,     44000,     16350,  17000000,    921180,\n",
       "          145000,     41600,    495000,     65500,      2250,    595000,\n",
       "           19800,     32750,     54000,  50000000,  48000000,    465000,\n",
       "          860000,         1,    630000,    995000,    241800,    340000,\n",
       "         4450000,   6500000,   2175000,   2000000,   2200000,   6150000,\n",
       "          410000,     16400,    295000,      3250,   1070000,     87000,\n",
       "          105000,      1750,    875000,    560000,        45,       190,\n",
       "              65,       185,        95,       120,        60,        90,\n",
       "             775,  16500000,     11250,     12850,    740000,   2500000,\n",
       "          355000,    255000,     72000,    485000,    285000,     59500,\n",
       "          245000,   4050000,     32500,    510000,   1225000,   3900000,\n",
       "        30000000,     39900,    243000,   2300000,  25000000,     49950,\n",
       "           73000,    840000,   2275000,    310000,      7300,      3750,\n",
       "         3000000,   1700000])"
      ]
     },
     "execution_count": 113,
     "metadata": {},
     "output_type": "execute_result"
    }
   ],
   "source": [
    "df['price'].unique()"
   ]
  },
  {
   "cell_type": "code",
   "execution_count": 114,
   "id": "49f3b763-e6fc-416d-b4e8-7dbf030bee5f",
   "metadata": {},
   "outputs": [],
   "source": [
    "drop_columns(df, ['list-view-price'])"
   ]
  },
  {
   "cell_type": "code",
   "execution_count": 115,
   "id": "cd689d8d-94b3-4cd9-80db-d541ec025694",
   "metadata": {},
   "outputs": [
    {
     "name": "stdout",
     "output_type": "stream",
     "text": [
      "<class 'pandas.core.frame.DataFrame'>\n",
      "RangeIndex: 8136 entries, 0 to 8135\n",
      "Data columns (total 9 columns):\n",
      " #   Column        Non-Null Count  Dtype \n",
      "---  ------        --------------  ----- \n",
      " 0   city          8136 non-null   object\n",
      " 1   district      8136 non-null   object\n",
      " 2   neighborhood  8136 non-null   object\n",
      " 3   room          8136 non-null   int64 \n",
      " 4   living_room   8136 non-null   int64 \n",
      " 5   area          8136 non-null   int64 \n",
      " 6   age           8136 non-null   int64 \n",
      " 7   floor         8136 non-null   int64 \n",
      " 8   price         8136 non-null   int64 \n",
      "dtypes: int64(6), object(3)\n",
      "memory usage: 572.2+ KB\n"
     ]
    }
   ],
   "source": [
    "df.info()"
   ]
  },
  {
   "cell_type": "code",
   "execution_count": 116,
   "id": "445f9019-4ab1-4bea-9cd7-fbbc893a4f12",
   "metadata": {},
   "outputs": [],
   "source": [
    "df.to_csv('data.csv', index = False)"
   ]
  },
  {
   "cell_type": "code",
   "execution_count": null,
   "id": "c0c4224e-ddc7-4277-9b6a-dfa78b739196",
   "metadata": {},
   "outputs": [],
   "source": []
  }
 ],
 "metadata": {
  "kernelspec": {
   "display_name": "Python 3 (ipykernel)",
   "language": "python",
   "name": "python3"
  },
  "language_info": {
   "codemirror_mode": {
    "name": "ipython",
    "version": 3
   },
   "file_extension": ".py",
   "mimetype": "text/x-python",
   "name": "python",
   "nbconvert_exporter": "python",
   "pygments_lexer": "ipython3",
   "version": "3.12.2"
  }
 },
 "nbformat": 4,
 "nbformat_minor": 5
}
