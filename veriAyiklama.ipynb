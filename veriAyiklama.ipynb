{
 "cells": [
  {
   "cell_type": "code",
   "execution_count": 86,
   "id": "68e0b1bd-53c1-47a9-a3b2-5d22cc5b0236",
   "metadata": {},
   "outputs": [],
   "source": [
    "import pandas as pd\n",
    "import numpy as np\n",
    "import os"
   ]
  },
  {
   "cell_type": "code",
   "execution_count": 112,
   "id": "1c6eea43-db40-4488-ab0c-4480423c97b9",
   "metadata": {},
   "outputs": [],
   "source": [
    "def drop_columns(df, cols):\n",
    "    \"\"\"\n",
    "    This function removes the columns from a DataFrame.\n",
    "    \"\"\"\n",
    "    for col in cols:\n",
    "        try:\n",
    "            df.drop([col], axis=1, inplace=True)\n",
    "        except Exception as e:\n",
    "            print(f\"Bir hata oluştu: {e}\")"
   ]
  },
  {
   "cell_type": "code",
   "execution_count": 113,
   "id": "0c274656-4dd3-47be-9d53-37e16827d76a",
   "metadata": {},
   "outputs": [],
   "source": [
    "files = os.listdir('hepsiemlak')\n",
    "df = pd.concat([pd.read_csv(f\"hepsiemlak/{file}\") for file in files], ignore_index = True)\n"
   ]
  },
  {
   "cell_type": "code",
   "execution_count": 114,
   "id": "9af44d0c-ff8a-4492-86ff-3cb12a51f638",
   "metadata": {},
   "outputs": [
    {
     "name": "stdout",
     "output_type": "stream",
     "text": [
      "<class 'pandas.core.frame.DataFrame'>\n",
      "RangeIndex: 8136 entries, 0 to 8135\n",
      "Data columns (total 18 columns):\n",
      " #   Column               Non-Null Count  Dtype  \n",
      "---  ------               --------------  -----  \n",
      " 0   img-link href        8136 non-null   object \n",
      " 1   photo-count          8130 non-null   float64\n",
      " 2   list-view-price      8136 non-null   object \n",
      " 3   list-view-date       8136 non-null   object \n",
      " 4   celly                8136 non-null   object \n",
      " 5   celly 2              8136 non-null   object \n",
      " 6   celly 3              8136 non-null   object \n",
      " 7   celly 4              6858 non-null   object \n",
      " 8   list-view-header     8129 non-null   object \n",
      " 9   list-view-location   8136 non-null   object \n",
      " 10  he-lazy-image src    7649 non-null   object \n",
      " 11  left                 8114 non-null   object \n",
      " 12  img-wrp href         4555 non-null   object \n",
      " 13  he-lazy-image src 2  4067 non-null   object \n",
      " 14  branded__text        134 non-null    object \n",
      " 15  branded__text 2      134 non-null    object \n",
      " 16  img-wrp href 2       133 non-null    object \n",
      " 17  he-lazy-image src 3  116 non-null    object \n",
      "dtypes: float64(1), object(17)\n",
      "memory usage: 1.1+ MB\n"
     ]
    }
   ],
   "source": [
    "df.info()"
   ]
  },
  {
   "cell_type": "code",
   "execution_count": 115,
   "id": "a64bebe1-0544-49ae-87c8-8d4b3dc11f60",
   "metadata": {},
   "outputs": [
    {
     "data": {
      "text/html": [
       "<div>\n",
       "<style scoped>\n",
       "    .dataframe tbody tr th:only-of-type {\n",
       "        vertical-align: middle;\n",
       "    }\n",
       "\n",
       "    .dataframe tbody tr th {\n",
       "        vertical-align: top;\n",
       "    }\n",
       "\n",
       "    .dataframe thead th {\n",
       "        text-align: right;\n",
       "    }\n",
       "</style>\n",
       "<table border=\"1\" class=\"dataframe\">\n",
       "  <thead>\n",
       "    <tr style=\"text-align: right;\">\n",
       "      <th></th>\n",
       "      <th>img-link href</th>\n",
       "      <th>photo-count</th>\n",
       "      <th>list-view-price</th>\n",
       "      <th>list-view-date</th>\n",
       "      <th>celly</th>\n",
       "      <th>celly 2</th>\n",
       "      <th>celly 3</th>\n",
       "      <th>celly 4</th>\n",
       "      <th>list-view-header</th>\n",
       "      <th>list-view-location</th>\n",
       "      <th>he-lazy-image src</th>\n",
       "      <th>left</th>\n",
       "      <th>img-wrp href</th>\n",
       "      <th>he-lazy-image src 2</th>\n",
       "      <th>branded__text</th>\n",
       "      <th>branded__text 2</th>\n",
       "      <th>img-wrp href 2</th>\n",
       "      <th>he-lazy-image src 3</th>\n",
       "    </tr>\n",
       "  </thead>\n",
       "  <tbody>\n",
       "    <tr>\n",
       "      <th>0</th>\n",
       "      <td>https://www.hepsiemlak.com/usak-banaz-cumhuriy...</td>\n",
       "      <td>10.0</td>\n",
       "      <td>7.0</td>\n",
       "      <td>15-04-2024</td>\n",
       "      <td>3 +\\n                        1</td>\n",
       "      <td>150 m²</td>\n",
       "      <td>20\\n                      Yaşında</td>\n",
       "      <td>Kot 2</td>\n",
       "      <td>Banazda Şehir Merkezinde Heryere Ulaşimi Çok Y...</td>\n",
       "      <td>Banaz, Cumhuriyet Mahallesi</td>\n",
       "      <td>NaN</td>\n",
       "      <td>NaN</td>\n",
       "      <td>NaN</td>\n",
       "      <td>NaN</td>\n",
       "      <td>NaN</td>\n",
       "      <td>NaN</td>\n",
       "      <td>NaN</td>\n",
       "      <td>NaN</td>\n",
       "    </tr>\n",
       "    <tr>\n",
       "      <th>1</th>\n",
       "      <td>https://www.hepsiemlak.com/usak-merkez-kemaloz...</td>\n",
       "      <td>17.0</td>\n",
       "      <td>8.5</td>\n",
       "      <td>07-04-2024</td>\n",
       "      <td>2 +\\n                        1</td>\n",
       "      <td>110 m²</td>\n",
       "      <td>8\\n                      Yaşında</td>\n",
       "      <td>1. Kat</td>\n",
       "      <td>Kemalöz Semt Pazarı Yanı Kiralık 2+1 Daire</td>\n",
       "      <td>Merkez, Kemalöz Mahallesi</td>\n",
       "      <td>NaN</td>\n",
       "      <td>NaN</td>\n",
       "      <td>NaN</td>\n",
       "      <td>NaN</td>\n",
       "      <td>NaN</td>\n",
       "      <td>NaN</td>\n",
       "      <td>NaN</td>\n",
       "      <td>NaN</td>\n",
       "    </tr>\n",
       "    <tr>\n",
       "      <th>2</th>\n",
       "      <td>https://www.hepsiemlak.com/usak-merkez-kemaloz...</td>\n",
       "      <td>11.0</td>\n",
       "      <td>7.0</td>\n",
       "      <td>29-03-2024</td>\n",
       "      <td>1 +\\n                        1</td>\n",
       "      <td>60 m²</td>\n",
       "      <td>Sıfır Bina</td>\n",
       "      <td>4. Kat</td>\n",
       "      <td>Bakır Gayrimenkul Den Kiralık Atapark Yakını K...</td>\n",
       "      <td>Merkez, Kemalöz Mahallesi</td>\n",
       "      <td>NaN</td>\n",
       "      <td>NaN</td>\n",
       "      <td>NaN</td>\n",
       "      <td>NaN</td>\n",
       "      <td>NaN</td>\n",
       "      <td>NaN</td>\n",
       "      <td>NaN</td>\n",
       "      <td>NaN</td>\n",
       "    </tr>\n",
       "    <tr>\n",
       "      <th>3</th>\n",
       "      <td>https://www.hepsiemlak.com/usak-merkez-durak-k...</td>\n",
       "      <td>13.0</td>\n",
       "      <td>7.0</td>\n",
       "      <td>30-03-2024</td>\n",
       "      <td>1 +\\n                        1</td>\n",
       "      <td>50 m²</td>\n",
       "      <td>10\\n                      Yaşında</td>\n",
       "      <td>5. Kat</td>\n",
       "      <td>Fatih Caddesi Üzerinde Lüks Kiralık 1+1 Apart</td>\n",
       "      <td>Merkez, Durak Mahallesi</td>\n",
       "      <td>https://hecdn01.hemlak.com/mncropresize/182/13...</td>\n",
       "      <td>NaN</td>\n",
       "      <td>NaN</td>\n",
       "      <td>NaN</td>\n",
       "      <td>NaN</td>\n",
       "      <td>NaN</td>\n",
       "      <td>NaN</td>\n",
       "      <td>NaN</td>\n",
       "    </tr>\n",
       "    <tr>\n",
       "      <th>4</th>\n",
       "      <td>https://www.hepsiemlak.com/usak-merkez-cumhuri...</td>\n",
       "      <td>50.0</td>\n",
       "      <td>16.5</td>\n",
       "      <td>30-03-2024</td>\n",
       "      <td>4 +\\n                        1</td>\n",
       "      <td>300 m²</td>\n",
       "      <td>11\\n                      Yaşında</td>\n",
       "      <td>7. Kat</td>\n",
       "      <td>Uşak,Merkez,Cumhuriyet Mah.Kiralık 4+1 Dubleks...</td>\n",
       "      <td>Merkez, Cumhuriyet Mahallesi</td>\n",
       "      <td>https://hecdn01.hemlak.com/mncropresize/182/13...</td>\n",
       "      <td>NaN</td>\n",
       "      <td>NaN</td>\n",
       "      <td>NaN</td>\n",
       "      <td>NaN</td>\n",
       "      <td>NaN</td>\n",
       "      <td>NaN</td>\n",
       "      <td>NaN</td>\n",
       "    </tr>\n",
       "  </tbody>\n",
       "</table>\n",
       "</div>"
      ],
      "text/plain": [
       "                                       img-link href  photo-count  \\\n",
       "0  https://www.hepsiemlak.com/usak-banaz-cumhuriy...         10.0   \n",
       "1  https://www.hepsiemlak.com/usak-merkez-kemaloz...         17.0   \n",
       "2  https://www.hepsiemlak.com/usak-merkez-kemaloz...         11.0   \n",
       "3  https://www.hepsiemlak.com/usak-merkez-durak-k...         13.0   \n",
       "4  https://www.hepsiemlak.com/usak-merkez-cumhuri...         50.0   \n",
       "\n",
       "  list-view-price list-view-date                           celly celly 2  \\\n",
       "0             7.0     15-04-2024  3 +\\n                        1  150 m²   \n",
       "1             8.5     07-04-2024  2 +\\n                        1  110 m²   \n",
       "2             7.0     29-03-2024  1 +\\n                        1   60 m²   \n",
       "3             7.0     30-03-2024  1 +\\n                        1   50 m²   \n",
       "4            16.5     30-03-2024  4 +\\n                        1  300 m²   \n",
       "\n",
       "                             celly 3 celly 4  \\\n",
       "0  20\\n                      Yaşında   Kot 2   \n",
       "1   8\\n                      Yaşında  1. Kat   \n",
       "2                         Sıfır Bina  4. Kat   \n",
       "3  10\\n                      Yaşında  5. Kat   \n",
       "4  11\\n                      Yaşında  7. Kat   \n",
       "\n",
       "                                    list-view-header  \\\n",
       "0  Banazda Şehir Merkezinde Heryere Ulaşimi Çok Y...   \n",
       "1         Kemalöz Semt Pazarı Yanı Kiralık 2+1 Daire   \n",
       "2  Bakır Gayrimenkul Den Kiralık Atapark Yakını K...   \n",
       "3      Fatih Caddesi Üzerinde Lüks Kiralık 1+1 Apart   \n",
       "4  Uşak,Merkez,Cumhuriyet Mah.Kiralık 4+1 Dubleks...   \n",
       "\n",
       "             list-view-location  \\\n",
       "0   Banaz, Cumhuriyet Mahallesi   \n",
       "1     Merkez, Kemalöz Mahallesi   \n",
       "2     Merkez, Kemalöz Mahallesi   \n",
       "3       Merkez, Durak Mahallesi   \n",
       "4  Merkez, Cumhuriyet Mahallesi   \n",
       "\n",
       "                                   he-lazy-image src left img-wrp href  \\\n",
       "0                                                NaN  NaN          NaN   \n",
       "1                                                NaN  NaN          NaN   \n",
       "2                                                NaN  NaN          NaN   \n",
       "3  https://hecdn01.hemlak.com/mncropresize/182/13...  NaN          NaN   \n",
       "4  https://hecdn01.hemlak.com/mncropresize/182/13...  NaN          NaN   \n",
       "\n",
       "  he-lazy-image src 2 branded__text branded__text 2 img-wrp href 2  \\\n",
       "0                 NaN           NaN             NaN            NaN   \n",
       "1                 NaN           NaN             NaN            NaN   \n",
       "2                 NaN           NaN             NaN            NaN   \n",
       "3                 NaN           NaN             NaN            NaN   \n",
       "4                 NaN           NaN             NaN            NaN   \n",
       "\n",
       "  he-lazy-image src 3  \n",
       "0                 NaN  \n",
       "1                 NaN  \n",
       "2                 NaN  \n",
       "3                 NaN  \n",
       "4                 NaN  "
      ]
     },
     "execution_count": 115,
     "metadata": {},
     "output_type": "execute_result"
    }
   ],
   "source": [
    "df.head()"
   ]
  },
  {
   "cell_type": "code",
   "execution_count": 116,
   "id": "4810a6da-c5ab-4186-9968-5b9c0566dfff",
   "metadata": {},
   "outputs": [
    {
     "data": {
      "text/plain": [
       "Index(['img-link href', 'photo-count', 'list-view-price', 'list-view-date',\n",
       "       'celly', 'celly 2', 'celly 3', 'celly 4', 'list-view-header',\n",
       "       'list-view-location', 'he-lazy-image src', 'left', 'img-wrp href',\n",
       "       'he-lazy-image src 2', 'branded__text', 'branded__text 2',\n",
       "       'img-wrp href 2', 'he-lazy-image src 3'],\n",
       "      dtype='object')"
      ]
     },
     "execution_count": 116,
     "metadata": {},
     "output_type": "execute_result"
    }
   ],
   "source": [
    "df.columns"
   ]
  },
  {
   "cell_type": "code",
   "execution_count": 117,
   "id": "7d12c461-1bf4-4daa-9ddc-141611abe4b2",
   "metadata": {},
   "outputs": [],
   "source": [
    "cols = ['photo-count', 'list-view-date', 'list-view-header', 'list-view-location', 'he-lazy-image src', 'left', 'img-wrp href', 'he-lazy-image src 2', 'branded__text', 'branded__text 2', 'img-wrp href 2', 'he-lazy-image src 3']\n",
    "drop_columns(df, cols)"
   ]
  },
  {
   "cell_type": "code",
   "execution_count": 118,
   "id": "bf37dfaf-2ad4-45d5-b9ca-cf45ba9abaed",
   "metadata": {},
   "outputs": [
    {
     "name": "stdout",
     "output_type": "stream",
     "text": [
      "<class 'pandas.core.frame.DataFrame'>\n",
      "RangeIndex: 8136 entries, 0 to 8135\n",
      "Data columns (total 6 columns):\n",
      " #   Column           Non-Null Count  Dtype \n",
      "---  ------           --------------  ----- \n",
      " 0   img-link href    8136 non-null   object\n",
      " 1   list-view-price  8136 non-null   object\n",
      " 2   celly            8136 non-null   object\n",
      " 3   celly 2          8136 non-null   object\n",
      " 4   celly 3          8136 non-null   object\n",
      " 5   celly 4          6858 non-null   object\n",
      "dtypes: object(6)\n",
      "memory usage: 381.5+ KB\n"
     ]
    }
   ],
   "source": [
    "df.info()"
   ]
  },
  {
   "cell_type": "code",
   "execution_count": 119,
   "id": "5518b1e9-9b81-415a-8760-f3b572a85ad6",
   "metadata": {},
   "outputs": [],
   "source": [
    "df['location'] = df['img-link href'].apply(lambda x: x.split('/')[3])\n",
    "df['city'] =  df['location'].str.split('-').str[0]\n",
    "df['district'] =  df['location'].str.split('-').str[1]\n",
    "df['neighborhood'] =  df['location'].str.split('-').str[2:-1]\n",
    "df['neighborhood'] =  df['neighborhood'].apply(lambda x:'_'.join(x))\n"
   ]
  },
  {
   "cell_type": "code",
   "execution_count": 121,
   "id": "5f9fa100-8bc3-44ba-994c-c1cd0f93a843",
   "metadata": {},
   "outputs": [
    {
     "name": "stdout",
     "output_type": "stream",
     "text": [
      "Bir hata oluştu: \"['location'] not found in axis\"\n",
      "Bir hata oluştu: \"['img-link href'] not found in axis\"\n"
     ]
    }
   ],
   "source": [
    "drop_columns(df, ['location', 'img-link href'])"
   ]
  },
  {
   "cell_type": "code",
   "execution_count": 122,
   "id": "15f3e4ec-16d9-4d83-870a-eae02f8f9aed",
   "metadata": {},
   "outputs": [
    {
     "name": "stdout",
     "output_type": "stream",
     "text": [
      "<class 'pandas.core.frame.DataFrame'>\n",
      "RangeIndex: 8136 entries, 0 to 8135\n",
      "Data columns (total 8 columns):\n",
      " #   Column           Non-Null Count  Dtype \n",
      "---  ------           --------------  ----- \n",
      " 0   list-view-price  8136 non-null   object\n",
      " 1   celly            8136 non-null   object\n",
      " 2   celly 2          8136 non-null   object\n",
      " 3   celly 3          8136 non-null   object\n",
      " 4   celly 4          6858 non-null   object\n",
      " 5   city             8136 non-null   object\n",
      " 6   district         8136 non-null   object\n",
      " 7   neighborhood     8136 non-null   object\n",
      "dtypes: object(8)\n",
      "memory usage: 508.6+ KB\n"
     ]
    }
   ],
   "source": [
    "df.info()"
   ]
  },
  {
   "cell_type": "code",
   "execution_count": 125,
   "id": "5b9b99ae-6c2d-47dc-b0b0-1a165fae9b0c",
   "metadata": {},
   "outputs": [
    {
     "data": {
      "text/html": [
       "<div>\n",
       "<style scoped>\n",
       "    .dataframe tbody tr th:only-of-type {\n",
       "        vertical-align: middle;\n",
       "    }\n",
       "\n",
       "    .dataframe tbody tr th {\n",
       "        vertical-align: top;\n",
       "    }\n",
       "\n",
       "    .dataframe thead th {\n",
       "        text-align: right;\n",
       "    }\n",
       "</style>\n",
       "<table border=\"1\" class=\"dataframe\">\n",
       "  <thead>\n",
       "    <tr style=\"text-align: right;\">\n",
       "      <th></th>\n",
       "      <th>city</th>\n",
       "      <th>district</th>\n",
       "      <th>neighborhood</th>\n",
       "    </tr>\n",
       "  </thead>\n",
       "  <tbody>\n",
       "    <tr>\n",
       "      <th>6823</th>\n",
       "      <td>manisa</td>\n",
       "      <td>turgutlu</td>\n",
       "      <td>selvilitepe</td>\n",
       "    </tr>\n",
       "    <tr>\n",
       "      <th>7440</th>\n",
       "      <td>mugla</td>\n",
       "      <td>dalaman</td>\n",
       "      <td>karacali</td>\n",
       "    </tr>\n",
       "    <tr>\n",
       "      <th>2031</th>\n",
       "      <td>izmir</td>\n",
       "      <td>menemen</td>\n",
       "      <td>kasimpasa</td>\n",
       "    </tr>\n",
       "    <tr>\n",
       "      <th>1920</th>\n",
       "      <td>izmir</td>\n",
       "      <td>karsiyaka</td>\n",
       "      <td>bostanli</td>\n",
       "    </tr>\n",
       "    <tr>\n",
       "      <th>4922</th>\n",
       "      <td>izmir</td>\n",
       "      <td>karsiyaka</td>\n",
       "      <td>fikri_altay</td>\n",
       "    </tr>\n",
       "    <tr>\n",
       "      <th>2801</th>\n",
       "      <td>izmir</td>\n",
       "      <td>balcova</td>\n",
       "      <td>cetin_emec</td>\n",
       "    </tr>\n",
       "    <tr>\n",
       "      <th>7339</th>\n",
       "      <td>mugla</td>\n",
       "      <td>bodrum</td>\n",
       "      <td>yalikavak</td>\n",
       "    </tr>\n",
       "    <tr>\n",
       "      <th>2462</th>\n",
       "      <td>izmir</td>\n",
       "      <td>urla</td>\n",
       "      <td>zeytinalani</td>\n",
       "    </tr>\n",
       "    <tr>\n",
       "      <th>7048</th>\n",
       "      <td>mugla</td>\n",
       "      <td>koycegiz</td>\n",
       "      <td>beyobasi</td>\n",
       "    </tr>\n",
       "    <tr>\n",
       "      <th>5829</th>\n",
       "      <td>mugla</td>\n",
       "      <td>mentese</td>\n",
       "      <td>orhaniye</td>\n",
       "    </tr>\n",
       "    <tr>\n",
       "      <th>3744</th>\n",
       "      <td>aydin</td>\n",
       "      <td>kusadasi</td>\n",
       "      <td>cumhuriyet</td>\n",
       "    </tr>\n",
       "    <tr>\n",
       "      <th>302</th>\n",
       "      <td>izmir</td>\n",
       "      <td>konak</td>\n",
       "      <td>kemal_reis</td>\n",
       "    </tr>\n",
       "    <tr>\n",
       "      <th>7518</th>\n",
       "      <td>mugla</td>\n",
       "      <td>bodrum</td>\n",
       "      <td>yokusbasi</td>\n",
       "    </tr>\n",
       "    <tr>\n",
       "      <th>7356</th>\n",
       "      <td>mugla</td>\n",
       "      <td>ortaca</td>\n",
       "      <td>eksiliyurt</td>\n",
       "    </tr>\n",
       "    <tr>\n",
       "      <th>1661</th>\n",
       "      <td>izmir</td>\n",
       "      <td>bornova</td>\n",
       "      <td>kazimdirik</td>\n",
       "    </tr>\n",
       "    <tr>\n",
       "      <th>4499</th>\n",
       "      <td>denizli</td>\n",
       "      <td>merkezefendi</td>\n",
       "      <td>degirmenonu</td>\n",
       "    </tr>\n",
       "    <tr>\n",
       "      <th>5881</th>\n",
       "      <td>mugla</td>\n",
       "      <td>fethiye</td>\n",
       "      <td>menteseoglu</td>\n",
       "    </tr>\n",
       "    <tr>\n",
       "      <th>3614</th>\n",
       "      <td>aydin</td>\n",
       "      <td>efeler</td>\n",
       "      <td>hasanefendi_ramazan_pasa</td>\n",
       "    </tr>\n",
       "    <tr>\n",
       "      <th>7483</th>\n",
       "      <td>mugla</td>\n",
       "      <td>milas</td>\n",
       "      <td>gulluk</td>\n",
       "    </tr>\n",
       "    <tr>\n",
       "      <th>4039</th>\n",
       "      <td>denizli</td>\n",
       "      <td>pamukkale</td>\n",
       "      <td>asmalievler</td>\n",
       "    </tr>\n",
       "  </tbody>\n",
       "</table>\n",
       "</div>"
      ],
      "text/plain": [
       "         city      district              neighborhood\n",
       "6823   manisa      turgutlu               selvilitepe\n",
       "7440    mugla       dalaman                  karacali\n",
       "2031    izmir       menemen                 kasimpasa\n",
       "1920    izmir     karsiyaka                  bostanli\n",
       "4922    izmir     karsiyaka               fikri_altay\n",
       "2801    izmir       balcova                cetin_emec\n",
       "7339    mugla        bodrum                 yalikavak\n",
       "2462    izmir          urla               zeytinalani\n",
       "7048    mugla      koycegiz                  beyobasi\n",
       "5829    mugla       mentese                  orhaniye\n",
       "3744    aydin      kusadasi                cumhuriyet\n",
       "302     izmir         konak                kemal_reis\n",
       "7518    mugla        bodrum                 yokusbasi\n",
       "7356    mugla        ortaca                eksiliyurt\n",
       "1661    izmir       bornova                kazimdirik\n",
       "4499  denizli  merkezefendi               degirmenonu\n",
       "5881    mugla       fethiye               menteseoglu\n",
       "3614    aydin        efeler  hasanefendi_ramazan_pasa\n",
       "7483    mugla         milas                    gulluk\n",
       "4039  denizli     pamukkale               asmalievler"
      ]
     },
     "execution_count": 125,
     "metadata": {},
     "output_type": "execute_result"
    }
   ],
   "source": [
    "df[['city', 'district','neighborhood']].sample(20)"
   ]
  },
  {
   "cell_type": "code",
   "execution_count": 126,
   "id": "7b32a753-3ade-4ebe-b3f4-98f29fdc2283",
   "metadata": {},
   "outputs": [
    {
     "data": {
      "text/plain": [
       "Index(['list-view-price', 'celly', 'celly 2', 'celly 3', 'celly 4', 'city',\n",
       "       'district', 'neighborhood'],\n",
       "      dtype='object')"
      ]
     },
     "execution_count": 126,
     "metadata": {},
     "output_type": "execute_result"
    }
   ],
   "source": [
    "df.columns\n"
   ]
  },
  {
   "cell_type": "code",
   "execution_count": 128,
   "id": "6a5b260c-7aa9-4ae0-b58d-01e01ff39df5",
   "metadata": {},
   "outputs": [
    {
     "data": {
      "text/plain": [
       "array(['3 +\\n                        1', '2 +\\n                        1',\n",
       "       '1 +\\n                        1', '4 +\\n                        1',\n",
       "       '2 +\\n                        0', 'Stüdyo',\n",
       "       '3 +\\n                        0',\n",
       "       '1 +\\n                        15',\n",
       "       '2 +\\n                        2', '6 +\\n                        2',\n",
       "       '4 +\\n                        2', '3 +\\n                        2',\n",
       "       '9 +\\n                        1', '6 +\\n                        1',\n",
       "       '8 +\\n                        1', '5 +\\n                        1',\n",
       "       '41 +\\n                        4',\n",
       "       '4 +\\n                        0', '5 +\\n                        2',\n",
       "       '1 +\\n                        25',\n",
       "       '7 +\\n                        1',\n",
       "       '21 +\\n                        1',\n",
       "       '7 +\\n                        2', '6 +\\n                        0',\n",
       "       '9 +\\n                        4', '4 +\\n                        4',\n",
       "       '3 +\\n                        3',\n",
       "       '31 +\\n                        1',\n",
       "       '9 +\\n                        3',\n",
       "       '25 +\\n                        5',\n",
       "       '8 +\\n                        0', '9 +\\n                        9',\n",
       "       '14 +\\n                        6',\n",
       "       '10 +\\n                        1',\n",
       "       '1 +\\n                        2', '3 +\\n                        4',\n",
       "       '4 +\\n                        3', '9 +\\n                        5',\n",
       "       '8 +\\n                        4', '4 +\\n                        5'],\n",
       "      dtype=object)"
      ]
     },
     "execution_count": 128,
     "metadata": {},
     "output_type": "execute_result"
    }
   ],
   "source": [
    "df['celly'].unique()"
   ]
  },
  {
   "cell_type": "code",
   "execution_count": 132,
   "id": "681a1cc8-40a3-4703-9a88-c90b0188f874",
   "metadata": {},
   "outputs": [],
   "source": [
    "df['celly'] = df['celly'].apply(lambda x: x.replace('Stüdyo', ' 1 + 0'))\n",
    "df['celly'] = df['celly'].apply(lambda x: x.replace('\\n', ''))\n",
    "df['room'] = df['celly'].apply(lambda x: x.split('+')[0]).astype(int)\n",
    "df['living_room'] = df['celly'].apply(lambda x: x.split('+')[1]).astype(int)"
   ]
  },
  {
   "cell_type": "code",
   "execution_count": 134,
   "id": "e88ab125-f4be-496d-aeda-b39210ac0f7f",
   "metadata": {},
   "outputs": [
    {
     "data": {
      "text/plain": [
       "array([ 3,  2,  1,  4,  6,  9,  8,  5, 41,  7, 21, 31, 25, 14, 10])"
      ]
     },
     "execution_count": 134,
     "metadata": {},
     "output_type": "execute_result"
    }
   ],
   "source": [
    "df['room'].unique()"
   ]
  },
  {
   "cell_type": "code",
   "execution_count": 135,
   "id": "55b57248-9b7f-4a51-a409-bc5012b263c6",
   "metadata": {},
   "outputs": [
    {
     "data": {
      "text/plain": [
       "array([ 1,  0, 15,  2,  4, 25,  3,  5,  9,  6])"
      ]
     },
     "execution_count": 135,
     "metadata": {},
     "output_type": "execute_result"
    }
   ],
   "source": [
    "df['living_room'].unique()"
   ]
  },
  {
   "cell_type": "code",
   "execution_count": 136,
   "id": "723d3488-b929-4840-9f4e-1d1f5151f0b8",
   "metadata": {},
   "outputs": [],
   "source": [
    "drop_columns(df, ['celly'])"
   ]
  },
  {
   "cell_type": "code",
   "execution_count": 137,
   "id": "508f685e-633f-4f81-a924-bb81094b7fb2",
   "metadata": {},
   "outputs": [
    {
     "name": "stdout",
     "output_type": "stream",
     "text": [
      "<class 'pandas.core.frame.DataFrame'>\n",
      "RangeIndex: 8136 entries, 0 to 8135\n",
      "Data columns (total 9 columns):\n",
      " #   Column           Non-Null Count  Dtype \n",
      "---  ------           --------------  ----- \n",
      " 0   list-view-price  8136 non-null   object\n",
      " 1   celly 2          8136 non-null   object\n",
      " 2   celly 3          8136 non-null   object\n",
      " 3   celly 4          6858 non-null   object\n",
      " 4   city             8136 non-null   object\n",
      " 5   district         8136 non-null   object\n",
      " 6   neighborhood     8136 non-null   object\n",
      " 7   room             8136 non-null   int64 \n",
      " 8   living_room      8136 non-null   int64 \n",
      "dtypes: int64(2), object(7)\n",
      "memory usage: 572.2+ KB\n"
     ]
    }
   ],
   "source": [
    "df.info()"
   ]
  },
  {
   "cell_type": "code",
   "execution_count": 140,
   "id": "1e6ed4b6-fb0b-41da-8f46-9ec18efa2f6e",
   "metadata": {},
   "outputs": [
    {
     "data": {
      "text/plain": [
       "array(['150 m²', '110 m²', '60 m²', '50 m²', '300 m²', '117 m²', '70 m²',\n",
       "       '140 m²', '130 m²', '75 m²', '160 m²', '165 m²', '135 m²', '85 m²',\n",
       "       '120 m²', '48 m²', '125 m²', '80 m²', '95 m²', '100 m²', '105 m²',\n",
       "       '180 m²', '3.200 m²', '90 m²', '76 m²', '55 m²', '65 m²', '145 m²',\n",
       "       '45 m²', '115 m²', '35 m²', '53 m²', '155 m²', '148 m²', '78 m²',\n",
       "       '151 m²', '30 m²', '270 m²', '440 m²', '132 m²', '121 m²',\n",
       "       '141 m²', '170 m²', '122 m²', '200 m²', '87 m²', '146 m²',\n",
       "       '220 m²', '108 m²', '370 m²', '86 m²', '380 m²', '47 m²', '43 m²',\n",
       "       '63 m²', '245 m²', '204 m²', '183 m²', '190 m²', '600 m²',\n",
       "       '119 m²', '72 m²', '350 m²', '142 m²', '520 m²', '166 m²',\n",
       "       '870 m²', '330 m²', '96 m²', '41 m²', '143 m²', '280 m²', '64 m²',\n",
       "       '57 m²', '286 m²', '340 m²', '81 m²', '185 m²', '40 m²', '168 m²',\n",
       "       '116 m²', '93 m²', '209 m²', '59 m²', '77 m²', '400 m²', '98 m²',\n",
       "       '106 m²', '174 m²', '205 m²', '74 m²', '500 m²', '68 m²',\n",
       "       '1.301 m²', '275 m²', '52 m²', '137 m²', '167 m²', '217 m²',\n",
       "       '25 m²', '250 m²', '290 m²', '112 m²', '196 m²', '184 m²',\n",
       "       '450 m²', '159 m²', '195 m²', '640 m²', '230 m²', '260 m²',\n",
       "       '285 m²', '235 m²', '337 m²', '211 m²', '240 m²', '134 m²',\n",
       "       '832 m²', '1.000 m²', '38 m²', '147 m²', '152 m²', '88 m²',\n",
       "       '213 m²', '126 m²', '255 m²', '199 m²', '127 m²', '11 m²',\n",
       "       '154 m²', '22 m²', '66 m²', '399 m²', '187 m²', '67 m²', '210 m²',\n",
       "       '89 m²', '355 m²', '97 m²', '84 m²', '42 m²', '51 m²', '73 m²',\n",
       "       '325 m²', '71 m²', '3.000 m²', '175 m²', '320 m²', '156 m²',\n",
       "       '162 m²', '18 m²', '56 m²', '136 m²', '131 m²', '580 m²', '375 m²',\n",
       "       '161 m²', '163 m²', '149 m²', '206 m²', '138 m²', '475 m²',\n",
       "       '359 m²', '124 m²', '91 m²', '194 m²', '4.500 m²', '20 m²',\n",
       "       '103 m²', '58 m²', '302 m²', '505 m²', '800 m²', '368 m²',\n",
       "       '178 m²', '750 m²', '92 m²', '181 m²', '460 m²', '390 m²',\n",
       "       '360 m²', '550 m²', '4.000 m²', '295 m²', '128 m²', '341 m²',\n",
       "       '745 m²', '118 m²', '144 m²', '15 m²', '82 m²', '49 m²', '176 m²',\n",
       "       '182 m²', '981 m²', '256 m²', '62 m²', '32 m²', '3.510 m²',\n",
       "       '215 m²', '1.057 m²', '171 m²', '173 m²', '79 m²', '169 m²',\n",
       "       '28 m²', '104 m²', '535 m²', '5.500 m²', '114 m²', '208 m²',\n",
       "       '94 m²', '46 m²', '900 m²', '225 m²', '402 m²', '111 m²', '193 m²',\n",
       "       '1.100 m²', '212 m²', '102 m²', '177 m²', '249 m²', '109 m²',\n",
       "       '420 m²', '995 m²', '545 m²', '192 m²', '1.250 m²', '113 m²',\n",
       "       '490 m²', '760 m²', '157 m²', '54 m²', '405 m²', '36 m²', '510 m²',\n",
       "       '99 m²', '172 m²', '9.000 m²', '21 m²', '101 m²', '164 m²',\n",
       "       '158 m²', '201 m²', '310 m²', '1.150 m²', '2.000 m²', '228 m²',\n",
       "       '700 m²', '349 m²', '203 m²', '31 m²', '33 m²', '950 m²', '650 m²',\n",
       "       '252 m²', '493 m²', '265 m²', '1.400 m²', '5 m²', '317 m²',\n",
       "       '850 m²'], dtype=object)"
      ]
     },
     "execution_count": 140,
     "metadata": {},
     "output_type": "execute_result"
    }
   ],
   "source": [
    "df['celly 2'].unique()"
   ]
  },
  {
   "cell_type": "code",
   "execution_count": 144,
   "id": "a40742a5-9a93-4bc0-800c-d0e60fbf74ea",
   "metadata": {},
   "outputs": [],
   "source": [
    "df['celly 2'] = df['celly 2'].apply(lambda x:x.replace('.',''))\n",
    "df['area'] = df['celly 2'].apply(lambda x:x.split(' ')[0]).astype(int)\n"
   ]
  },
  {
   "cell_type": "code",
   "execution_count": 145,
   "id": "81857ae2-d32e-4db0-9068-6a4e1f1b16e4",
   "metadata": {},
   "outputs": [
    {
     "data": {
      "text/plain": [
       "array([ 150,  110,   60,   50,  300,  117,   70,  140,  130,   75,  160,\n",
       "        165,  135,   85,  120,   48,  125,   80,   95,  100,  105,  180,\n",
       "       3200,   90,   76,   55,   65,  145,   45,  115,   35,   53,  155,\n",
       "        148,   78,  151,   30,  270,  440,  132,  121,  141,  170,  122,\n",
       "        200,   87,  146,  220,  108,  370,   86,  380,   47,   43,   63,\n",
       "        245,  204,  183,  190,  600,  119,   72,  350,  142,  520,  166,\n",
       "        870,  330,   96,   41,  143,  280,   64,   57,  286,  340,   81,\n",
       "        185,   40,  168,  116,   93,  209,   59,   77,  400,   98,  106,\n",
       "        174,  205,   74,  500,   68, 1301,  275,   52,  137,  167,  217,\n",
       "         25,  250,  290,  112,  196,  184,  450,  159,  195,  640,  230,\n",
       "        260,  285,  235,  337,  211,  240,  134,  832, 1000,   38,  147,\n",
       "        152,   88,  213,  126,  255,  199,  127,   11,  154,   22,   66,\n",
       "        399,  187,   67,  210,   89,  355,   97,   84,   42,   51,   73,\n",
       "        325,   71, 3000,  175,  320,  156,  162,   18,   56,  136,  131,\n",
       "        580,  375,  161,  163,  149,  206,  138,  475,  359,  124,   91,\n",
       "        194, 4500,   20,  103,   58,  302,  505,  800,  368,  178,  750,\n",
       "         92,  181,  460,  390,  360,  550, 4000,  295,  128,  341,  745,\n",
       "        118,  144,   15,   82,   49,  176,  182,  981,  256,   62,   32,\n",
       "       3510,  215, 1057,  171,  173,   79,  169,   28,  104,  535, 5500,\n",
       "        114,  208,   94,   46,  900,  225,  402,  111,  193, 1100,  212,\n",
       "        102,  177,  249,  109,  420,  995,  545,  192, 1250,  113,  490,\n",
       "        760,  157,   54,  405,   36,  510,   99,  172, 9000,   21,  101,\n",
       "        164,  158,  201,  310, 1150, 2000,  228,  700,  349,  203,   31,\n",
       "         33,  950,  650,  252,  493,  265, 1400,    5,  317,  850])"
      ]
     },
     "execution_count": 145,
     "metadata": {},
     "output_type": "execute_result"
    }
   ],
   "source": [
    "df['area'].unique()"
   ]
  },
  {
   "cell_type": "code",
   "execution_count": 147,
   "id": "5ec88f71-59d6-4731-9783-6e02dc7fd8ff",
   "metadata": {},
   "outputs": [],
   "source": [
    "drop_columns(df,['celly 2'])"
   ]
  },
  {
   "cell_type": "code",
   "execution_count": 148,
   "id": "8398037d-f2bb-419d-8031-e45b3a9bc1a4",
   "metadata": {},
   "outputs": [
    {
     "name": "stdout",
     "output_type": "stream",
     "text": [
      "<class 'pandas.core.frame.DataFrame'>\n",
      "RangeIndex: 8136 entries, 0 to 8135\n",
      "Data columns (total 9 columns):\n",
      " #   Column           Non-Null Count  Dtype \n",
      "---  ------           --------------  ----- \n",
      " 0   list-view-price  8136 non-null   object\n",
      " 1   celly 3          8136 non-null   object\n",
      " 2   celly 4          6858 non-null   object\n",
      " 3   city             8136 non-null   object\n",
      " 4   district         8136 non-null   object\n",
      " 5   neighborhood     8136 non-null   object\n",
      " 6   room             8136 non-null   int64 \n",
      " 7   living_room      8136 non-null   int64 \n",
      " 8   area             8136 non-null   int64 \n",
      "dtypes: int64(3), object(6)\n",
      "memory usage: 572.2+ KB\n"
     ]
    }
   ],
   "source": [
    "df.info()"
   ]
  },
  {
   "cell_type": "code",
   "execution_count": null,
   "id": "deed9924-35ab-486c-9976-ab524cfce393",
   "metadata": {},
   "outputs": [],
   "source": []
  }
 ],
 "metadata": {
  "kernelspec": {
   "display_name": "Python 3 (ipykernel)",
   "language": "python",
   "name": "python3"
  },
  "language_info": {
   "codemirror_mode": {
    "name": "ipython",
    "version": 3
   },
   "file_extension": ".py",
   "mimetype": "text/x-python",
   "name": "python",
   "nbconvert_exporter": "python",
   "pygments_lexer": "ipython3",
   "version": "3.12.2"
  }
 },
 "nbformat": 4,
 "nbformat_minor": 5
}
