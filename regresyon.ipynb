{
 "cells": [
  {
   "cell_type": "markdown",
   "id": "af1f4864-1786-45be-92fa-1b53b1c24601",
   "metadata": {},
   "source": [
    "## Verilen lineer regresyon ile tahmin edilmesi"
   ]
  },
  {
   "cell_type": "code",
   "execution_count": 1,
   "id": "c4a05285-d884-46ef-b75c-78499d425a62",
   "metadata": {},
   "outputs": [],
   "source": [
    "import numpy as np\n",
    "import pandas as pd\n",
    "from sklearn.model_selection import train_test_split \n",
    "from sklearn.pipeline import Pipeline\n",
    "from sklearn.preprocessing import StandardScaler, OneHotEncoder\n",
    "from sklearn.compose import ColumnTransformer\n",
    "from sklearn.linear_model import LinearRegression\n",
    "from sklearn.metrics import mean_squared_error\n",
    "from sklearn.metrics import r2_score"
   ]
  },
  {
   "cell_type": "markdown",
   "id": "3c920792-4c16-4a75-b93a-5b1f677940af",
   "metadata": {},
   "source": [
    "###### sklearn paketinin model_selection modülünden train_test_split fonksiyonunu aldım"
   ]
  },
  {
   "cell_type": "code",
   "execution_count": 2,
   "id": "f881ae0b-78b8-4599-a055-d6cb5c150541",
   "metadata": {},
   "outputs": [],
   "source": [
    "df = pd.read_csv('data_cleaned.csv')"
   ]
  },
  {
   "cell_type": "code",
   "execution_count": 3,
   "id": "c4d2a30c-6e79-4b7d-8993-ff88c3019805",
   "metadata": {},
   "outputs": [],
   "source": [
    "df['city'] = df['city'].astype('category')\n",
    "df['district'] = df['district'].astype('category')\n",
    "df['neighborhood'] = df['neighborhood'].astype('category')\n",
    "df['room'] = df['room'].astype(int)\n",
    "df['living_room'] = df['living_room'].astype('int')\n",
    "df['age'] = df['age'].astype('int')\n",
    "df['floor'] = df['floor'].astype('int')\n",
    "df['price'] = df['price'].astype('int')"
   ]
  },
  {
   "cell_type": "code",
   "execution_count": 4,
   "id": "43c0c73e-cb90-4d2d-ba18-bf00efaab813",
   "metadata": {},
   "outputs": [
    {
     "name": "stdout",
     "output_type": "stream",
     "text": [
      "<class 'pandas.core.frame.DataFrame'>\n",
      "RangeIndex: 6116 entries, 0 to 6115\n",
      "Data columns (total 9 columns):\n",
      " #   Column        Non-Null Count  Dtype   \n",
      "---  ------        --------------  -----   \n",
      " 0   city          6116 non-null   category\n",
      " 1   district      6116 non-null   category\n",
      " 2   neighborhood  6116 non-null   category\n",
      " 3   room          6116 non-null   int64   \n",
      " 4   living_room   6116 non-null   int64   \n",
      " 5   area          6116 non-null   int64   \n",
      " 6   age           6116 non-null   int64   \n",
      " 7   floor         6116 non-null   int64   \n",
      " 8   price         6116 non-null   int64   \n",
      "dtypes: category(3), int64(6)\n",
      "memory usage: 335.0 KB\n"
     ]
    }
   ],
   "source": [
    "df.info()"
   ]
  },
  {
   "cell_type": "code",
   "execution_count": 5,
   "id": "9b22944b-183f-4df8-86fc-db2556a74299",
   "metadata": {},
   "outputs": [],
   "source": [
    "categorical_features = ['city', 'district', 'neighborhood']\n",
    "numerical_features = ['room', 'living_room', 'area', 'age', 'floor']"
   ]
  }
 ],
 "metadata": {
  "kernelspec": {
   "display_name": "Python 3 (ipykernel)",
   "language": "python",
   "name": "python3"
  },
  "language_info": {
   "codemirror_mode": {
    "name": "ipython",
    "version": 3
   },
   "file_extension": ".py",
   "mimetype": "text/x-python",
   "name": "python",
   "nbconvert_exporter": "python",
   "pygments_lexer": "ipython3",
   "version": "3.12.2"
  }
 },
 "nbformat": 4,
 "nbformat_minor": 5
}
