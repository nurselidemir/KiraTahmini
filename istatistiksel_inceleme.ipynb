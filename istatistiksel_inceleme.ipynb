{
 "cells": [
  {
   "cell_type": "markdown",
   "id": "e826a5d3-3e13-4073-88c6-c0e1e9c6b046",
   "metadata": {},
   "source": [
    "## Verilerin istatistiksel olarak incelenmesi ve aykırı değerlerin ayıklanması"
   ]
  },
  {
   "cell_type": "code",
   "execution_count": 2,
   "id": "05556081-7230-4095-a131-cbf7d1785062",
   "metadata": {},
   "outputs": [],
   "source": [
    "import numpy as np\n",
    "import pandas as pd\n",
    "import matplotlib.pyplot as plt"
   ]
  },
  {
   "cell_type": "code",
   "execution_count": 3,
   "id": "2837c02c-4877-41a4-93ab-8745e8027c4a",
   "metadata": {},
   "outputs": [],
   "source": [
    "df = pd.read_csv('data.csv')"
   ]
  },
  {
   "cell_type": "code",
   "execution_count": 4,
   "id": "a2bce931-ee5e-4c29-a502-e8630d6b24ce",
   "metadata": {},
   "outputs": [
    {
     "name": "stdout",
     "output_type": "stream",
     "text": [
      "<class 'pandas.core.frame.DataFrame'>\n",
      "RangeIndex: 8136 entries, 0 to 8135\n",
      "Data columns (total 9 columns):\n",
      " #   Column        Non-Null Count  Dtype \n",
      "---  ------        --------------  ----- \n",
      " 0   city          8136 non-null   object\n",
      " 1   district      8136 non-null   object\n",
      " 2   neighborhood  8136 non-null   object\n",
      " 3   room          8136 non-null   int64 \n",
      " 4   living_room   8136 non-null   int64 \n",
      " 5   area          8136 non-null   int64 \n",
      " 6   age           8136 non-null   int64 \n",
      " 7   floor         8136 non-null   int64 \n",
      " 8   price         8136 non-null   int64 \n",
      "dtypes: int64(6), object(3)\n",
      "memory usage: 572.2+ KB\n"
     ]
    }
   ],
   "source": [
    "df.info()"
   ]
  },
  {
   "cell_type": "code",
   "execution_count": 5,
   "id": "4f5cbfe1-198b-432e-b99c-5d4c6f6fabea",
   "metadata": {},
   "outputs": [],
   "source": [
    "df['city'] = df['city'].astype('category')\n",
    "df['district'] = df['district'].astype('category')\n",
    "df['neighborhood'] = df['neighborhood'].astype('category')\n",
    "df['room'] = df['room'].astype(int)\n",
    "df['living_room'] = df['living_room'].astype('int')\n",
    "df['age'] = df['age'].astype('int')\n",
    "df['floor'] = df['floor'].astype('int')\n",
    "df['price'] = df['price'].astype('int')"
   ]
  },
  {
   "cell_type": "code",
   "execution_count": 6,
   "id": "558a3b19-59d0-4681-88d5-6e5713ec4168",
   "metadata": {},
   "outputs": [
    {
     "name": "stdout",
     "output_type": "stream",
     "text": [
      "<class 'pandas.core.frame.DataFrame'>\n",
      "RangeIndex: 8136 entries, 0 to 8135\n",
      "Data columns (total 9 columns):\n",
      " #   Column        Non-Null Count  Dtype   \n",
      "---  ------        --------------  -----   \n",
      " 0   city          8136 non-null   category\n",
      " 1   district      8136 non-null   category\n",
      " 2   neighborhood  8136 non-null   category\n",
      " 3   room          8136 non-null   int64   \n",
      " 4   living_room   8136 non-null   int64   \n",
      " 5   area          8136 non-null   int64   \n",
      " 6   age           8136 non-null   int64   \n",
      " 7   floor         8136 non-null   int64   \n",
      " 8   price         8136 non-null   int64   \n",
      "dtypes: category(3), int64(6)\n",
      "memory usage: 438.2 KB\n"
     ]
    }
   ],
   "source": [
    "df.info()"
   ]
  },
  {
   "cell_type": "markdown",
   "id": "95f12377-ccb0-4f8a-b62c-02251ff3a796",
   "metadata": {},
   "source": [
    "### Nümerik değişkenlerin minimum, maximum ve çeyreklik değerlerinin bulunması"
   ]
  },
  {
   "cell_type": "code",
   "execution_count": 12,
   "id": "df067da0-553c-425c-9a45-83aab3eb613d",
   "metadata": {},
   "outputs": [
    {
     "name": "stdout",
     "output_type": "stream",
     "text": [
      "Column: room , min: 0.5, max: 4.5\n",
      "Column: living_room , min: 1.0, max: 1.0\n",
      "Column: area , min: -17.5, max: 242.5\n",
      "Column: age , min: -20.0, max: 44.0\n",
      "Column: floor , min: -2.0, max: 6.0\n",
      "Column: price , min: -18000.0, max: 62000.0\n"
     ]
    }
   ],
   "source": [
    "columns = df.select_dtypes(include = [np.number]).columns\n",
    "min_values = []\n",
    "max_values = []\n",
    "for column in columns:\n",
    "    Q1 = df[column].quantile(0.25)\n",
    "    Q3 = df[column].quantile(0.75)\n",
    "    IQR = Q3 - Q1 \n",
    "    min_value = Q1 - 1.5 * IQR\n",
    "    max_value = Q3 + 1.5 * IQR\n",
    "    min_values.append(min_value)\n",
    "    max_values.append(max_value)\n",
    "    print(f\"Column: {column} , min: {min_value}, max: {max_value}\")"
   ]
  },
  {
   "cell_type": "markdown",
   "id": "9cb6fde4-614f-4185-a477-16e08d3583c3",
   "metadata": {},
   "source": [
    "### Aykırı değerlerin temizlenmesi"
   ]
  },
  {
   "cell_type": "code",
   "execution_count": 17,
   "id": "197fff44-38bf-48e3-a633-01456db22cc3",
   "metadata": {},
   "outputs": [],
   "source": [
    "for i, column in enumerate(columns):\n",
    "     df = df[(df[column] >= min_values[i]) & (df[column] <= max_values[i])]  "
   ]
  },
  {
   "cell_type": "code",
   "execution_count": 18,
   "id": "88625f70-a3c4-40ed-a603-97b0d390abb6",
   "metadata": {},
   "outputs": [
    {
     "name": "stdout",
     "output_type": "stream",
     "text": [
      "<class 'pandas.core.frame.DataFrame'>\n",
      "Index: 6212 entries, 0 to 8134\n",
      "Data columns (total 9 columns):\n",
      " #   Column        Non-Null Count  Dtype   \n",
      "---  ------        --------------  -----   \n",
      " 0   city          6212 non-null   category\n",
      " 1   district      6212 non-null   category\n",
      " 2   neighborhood  6212 non-null   category\n",
      " 3   room          6212 non-null   int64   \n",
      " 4   living_room   6212 non-null   int64   \n",
      " 5   area          6212 non-null   int64   \n",
      " 6   age           6212 non-null   int64   \n",
      " 7   floor         6212 non-null   int64   \n",
      " 8   price         6212 non-null   int64   \n",
      "dtypes: category(3), int64(6)\n",
      "memory usage: 388.9 KB\n"
     ]
    }
   ],
   "source": [
    "df.info()"
   ]
  },
  {
   "cell_type": "code",
   "execution_count": 19,
   "id": "880216c7-7de5-4a2b-b02d-3c2291c29263",
   "metadata": {},
   "outputs": [
    {
     "data": {
      "text/html": [
       "<div>\n",
       "<style scoped>\n",
       "    .dataframe tbody tr th:only-of-type {\n",
       "        vertical-align: middle;\n",
       "    }\n",
       "\n",
       "    .dataframe tbody tr th {\n",
       "        vertical-align: top;\n",
       "    }\n",
       "\n",
       "    .dataframe thead th {\n",
       "        text-align: right;\n",
       "    }\n",
       "</style>\n",
       "<table border=\"1\" class=\"dataframe\">\n",
       "  <thead>\n",
       "    <tr style=\"text-align: right;\">\n",
       "      <th></th>\n",
       "      <th>room</th>\n",
       "      <th>living_room</th>\n",
       "      <th>area</th>\n",
       "      <th>age</th>\n",
       "      <th>floor</th>\n",
       "      <th>price</th>\n",
       "    </tr>\n",
       "  </thead>\n",
       "  <tbody>\n",
       "    <tr>\n",
       "      <th>count</th>\n",
       "      <td>6212.000000</td>\n",
       "      <td>6212.0</td>\n",
       "      <td>6212.000000</td>\n",
       "      <td>6212.000000</td>\n",
       "      <td>6212.000000</td>\n",
       "      <td>6212.000000</td>\n",
       "    </tr>\n",
       "    <tr>\n",
       "      <th>mean</th>\n",
       "      <td>2.176272</td>\n",
       "      <td>1.0</td>\n",
       "      <td>104.669350</td>\n",
       "      <td>12.653896</td>\n",
       "      <td>2.199614</td>\n",
       "      <td>17900.975853</td>\n",
       "    </tr>\n",
       "    <tr>\n",
       "      <th>std</th>\n",
       "      <td>0.826815</td>\n",
       "      <td>0.0</td>\n",
       "      <td>39.442494</td>\n",
       "      <td>10.451565</td>\n",
       "      <td>1.589618</td>\n",
       "      <td>10467.582893</td>\n",
       "    </tr>\n",
       "    <tr>\n",
       "      <th>min</th>\n",
       "      <td>1.000000</td>\n",
       "      <td>1.0</td>\n",
       "      <td>5.000000</td>\n",
       "      <td>0.000000</td>\n",
       "      <td>-2.000000</td>\n",
       "      <td>1.000000</td>\n",
       "    </tr>\n",
       "    <tr>\n",
       "      <th>25%</th>\n",
       "      <td>2.000000</td>\n",
       "      <td>1.0</td>\n",
       "      <td>75.000000</td>\n",
       "      <td>4.000000</td>\n",
       "      <td>1.000000</td>\n",
       "      <td>11000.000000</td>\n",
       "    </tr>\n",
       "    <tr>\n",
       "      <th>50%</th>\n",
       "      <td>2.000000</td>\n",
       "      <td>1.0</td>\n",
       "      <td>100.000000</td>\n",
       "      <td>10.000000</td>\n",
       "      <td>2.000000</td>\n",
       "      <td>15000.000000</td>\n",
       "    </tr>\n",
       "    <tr>\n",
       "      <th>75%</th>\n",
       "      <td>3.000000</td>\n",
       "      <td>1.0</td>\n",
       "      <td>130.000000</td>\n",
       "      <td>20.000000</td>\n",
       "      <td>3.000000</td>\n",
       "      <td>21000.000000</td>\n",
       "    </tr>\n",
       "    <tr>\n",
       "      <th>max</th>\n",
       "      <td>4.000000</td>\n",
       "      <td>1.0</td>\n",
       "      <td>240.000000</td>\n",
       "      <td>44.000000</td>\n",
       "      <td>6.000000</td>\n",
       "      <td>60000.000000</td>\n",
       "    </tr>\n",
       "  </tbody>\n",
       "</table>\n",
       "</div>"
      ],
      "text/plain": [
       "              room  living_room         area          age        floor  \\\n",
       "count  6212.000000       6212.0  6212.000000  6212.000000  6212.000000   \n",
       "mean      2.176272          1.0   104.669350    12.653896     2.199614   \n",
       "std       0.826815          0.0    39.442494    10.451565     1.589618   \n",
       "min       1.000000          1.0     5.000000     0.000000    -2.000000   \n",
       "25%       2.000000          1.0    75.000000     4.000000     1.000000   \n",
       "50%       2.000000          1.0   100.000000    10.000000     2.000000   \n",
       "75%       3.000000          1.0   130.000000    20.000000     3.000000   \n",
       "max       4.000000          1.0   240.000000    44.000000     6.000000   \n",
       "\n",
       "              price  \n",
       "count   6212.000000  \n",
       "mean   17900.975853  \n",
       "std    10467.582893  \n",
       "min        1.000000  \n",
       "25%    11000.000000  \n",
       "50%    15000.000000  \n",
       "75%    21000.000000  \n",
       "max    60000.000000  "
      ]
     },
     "execution_count": 19,
     "metadata": {},
     "output_type": "execute_result"
    }
   ],
   "source": [
    "df.describe()"
   ]
  },
  {
   "cell_type": "markdown",
   "id": "8cbbc681-fe63-48bd-bc4c-59cd3402a8b5",
   "metadata": {},
   "source": [
    "#### fiyat için elle düzeltme "
   ]
  },
  {
   "cell_type": "code",
   "execution_count": 20,
   "id": "5d8c16e5-dbdb-4485-98c1-737360a1f1ab",
   "metadata": {},
   "outputs": [],
   "source": [
    "df = df[df['price'] >= 3000]"
   ]
  },
  {
   "cell_type": "code",
   "execution_count": 21,
   "id": "07f5db85-3541-4f5c-87a9-555ce047ac6c",
   "metadata": {},
   "outputs": [
    {
     "name": "stdout",
     "output_type": "stream",
     "text": [
      "<class 'pandas.core.frame.DataFrame'>\n",
      "Index: 6116 entries, 23 to 8134\n",
      "Data columns (total 9 columns):\n",
      " #   Column        Non-Null Count  Dtype   \n",
      "---  ------        --------------  -----   \n",
      " 0   city          6116 non-null   category\n",
      " 1   district      6116 non-null   category\n",
      " 2   neighborhood  6116 non-null   category\n",
      " 3   room          6116 non-null   int64   \n",
      " 4   living_room   6116 non-null   int64   \n",
      " 5   area          6116 non-null   int64   \n",
      " 6   age           6116 non-null   int64   \n",
      " 7   floor         6116 non-null   int64   \n",
      " 8   price         6116 non-null   int64   \n",
      "dtypes: category(3), int64(6)\n",
      "memory usage: 383.3 KB\n"
     ]
    }
   ],
   "source": [
    "df.info()"
   ]
  },
  {
   "cell_type": "code",
   "execution_count": 22,
   "id": "e75d04e1-deb9-4bfc-a7d0-f7f2175b7456",
   "metadata": {},
   "outputs": [],
   "source": [
    "df.to_csv('data_cleaned.csv', index = False)"
   ]
  },
  {
   "cell_type": "code",
   "execution_count": null,
   "id": "6298e6ad-bb23-4bdb-9aa9-476f50c5bf4f",
   "metadata": {},
   "outputs": [],
   "source": []
  }
 ],
 "metadata": {
  "kernelspec": {
   "display_name": "Python 3 (ipykernel)",
   "language": "python",
   "name": "python3"
  },
  "language_info": {
   "codemirror_mode": {
    "name": "ipython",
    "version": 3
   },
   "file_extension": ".py",
   "mimetype": "text/x-python",
   "name": "python",
   "nbconvert_exporter": "python",
   "pygments_lexer": "ipython3",
   "version": "3.12.2"
  }
 },
 "nbformat": 4,
 "nbformat_minor": 5
}
